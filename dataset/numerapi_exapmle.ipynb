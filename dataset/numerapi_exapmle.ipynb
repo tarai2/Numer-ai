{
 "cells": [
  {
   "cell_type": "code",
   "execution_count": 1,
   "metadata": {},
   "outputs": [],
   "source": [
    "import io\n",
    "import requests\n",
    "import numerapi"
   ]
  },
  {
   "cell_type": "code",
   "execution_count": 2,
   "metadata": {},
   "outputs": [],
   "source": [
    "napi = numerapi.NumerAPI(verbosity='info')"
   ]
  },
  {
   "cell_type": "markdown",
   "metadata": {},
   "source": [
    "---\n",
    "### 投資可能ユニバース"
   ]
  },
  {
   "cell_type": "markdown",
   "metadata": {},
   "source": [
    "https://numerai-quant-public-data.s3-us-west-2.amazonaws.com/example_predictions/latest.csv"
   ]
  },
  {
   "cell_type": "code",
   "execution_count": 35,
   "metadata": {},
   "outputs": [],
   "source": [
    "res = requests.get(\"https://numerai-quant-public-data.s3-us-west-2.amazonaws.com/example_predictions/latest.csv\")"
   ]
  },
  {
   "cell_type": "code",
   "execution_count": 36,
   "metadata": {},
   "outputs": [],
   "source": [
    "df = pd.read_csv(io.StringIO(res.content.decode('utf-8')), header=0, index_col=0)"
   ]
  },
  {
   "cell_type": "code",
   "execution_count": 37,
   "metadata": {},
   "outputs": [
    {
     "data": {
      "text/html": [
       "<div>\n",
       "<style scoped>\n",
       "    .dataframe tbody tr th:only-of-type {\n",
       "        vertical-align: middle;\n",
       "    }\n",
       "\n",
       "    .dataframe tbody tr th {\n",
       "        vertical-align: top;\n",
       "    }\n",
       "\n",
       "    .dataframe thead th {\n",
       "        text-align: right;\n",
       "    }\n",
       "</style>\n",
       "<table border=\"1\" class=\"dataframe\">\n",
       "  <thead>\n",
       "    <tr style=\"text-align: right;\">\n",
       "      <th></th>\n",
       "      <th>prediction</th>\n",
       "    </tr>\n",
       "    <tr>\n",
       "      <th>ticker</th>\n",
       "      <th></th>\n",
       "    </tr>\n",
       "  </thead>\n",
       "  <tbody>\n",
       "    <tr>\n",
       "      <th>1999 HK</th>\n",
       "      <td>0.548814</td>\n",
       "    </tr>\n",
       "    <tr>\n",
       "      <th>1972 HK</th>\n",
       "      <td>0.715189</td>\n",
       "    </tr>\n",
       "    <tr>\n",
       "      <th>1299 HK</th>\n",
       "      <td>0.602763</td>\n",
       "    </tr>\n",
       "  </tbody>\n",
       "</table>\n",
       "</div>"
      ],
      "text/plain": [
       "         prediction\n",
       "ticker             \n",
       "1999 HK    0.548814\n",
       "1972 HK    0.715189\n",
       "1299 HK    0.602763"
      ]
     },
     "execution_count": 37,
     "metadata": {},
     "output_type": "execute_result"
    }
   ],
   "source": [
    "df.head(3)"
   ]
  },
  {
   "cell_type": "code",
   "execution_count": 38,
   "metadata": {},
   "outputs": [
    {
     "data": {
      "text/html": [
       "<div>\n",
       "<style scoped>\n",
       "    .dataframe tbody tr th:only-of-type {\n",
       "        vertical-align: middle;\n",
       "    }\n",
       "\n",
       "    .dataframe tbody tr th {\n",
       "        vertical-align: top;\n",
       "    }\n",
       "\n",
       "    .dataframe thead th {\n",
       "        text-align: right;\n",
       "    }\n",
       "</style>\n",
       "<table border=\"1\" class=\"dataframe\">\n",
       "  <thead>\n",
       "    <tr style=\"text-align: right;\">\n",
       "      <th></th>\n",
       "      <th>stock_id</th>\n",
       "      <th>region</th>\n",
       "    </tr>\n",
       "  </thead>\n",
       "  <tbody>\n",
       "    <tr>\n",
       "      <th>0</th>\n",
       "      <td>1999</td>\n",
       "      <td>HK</td>\n",
       "    </tr>\n",
       "    <tr>\n",
       "      <th>1</th>\n",
       "      <td>1972</td>\n",
       "      <td>HK</td>\n",
       "    </tr>\n",
       "    <tr>\n",
       "      <th>2</th>\n",
       "      <td>1299</td>\n",
       "      <td>HK</td>\n",
       "    </tr>\n",
       "  </tbody>\n",
       "</table>\n",
       "</div>"
      ],
      "text/plain": [
       "  stock_id region\n",
       "0     1999     HK\n",
       "1     1972     HK\n",
       "2     1299     HK"
      ]
     },
     "execution_count": 38,
     "metadata": {},
     "output_type": "execute_result"
    }
   ],
   "source": [
    "# stock_idとregionのdataframe\n",
    "universe = pd.DataFrame([val.split(\" \") for val in df.index.values], columns=[\"stock_id\", \"region\"])\n",
    "universe.fillna(\"blank\", inplace=True)\n",
    "universe.head(3)"
   ]
  },
  {
   "cell_type": "code",
   "execution_count": 39,
   "metadata": {},
   "outputs": [
    {
     "data": {
      "text/plain": [
       "<matplotlib.axes._subplots.AxesSubplot at 0x7f2023042748>"
      ]
     },
     "execution_count": 39,
     "metadata": {},
     "output_type": "execute_result"
    },
    {
     "data": {
      "image/png": "[encoded data removed]",
      "text/plain": [
       "<Figure size 432x288 with 1 Axes>"
      ]
     },
     "metadata": {
      "needs_background": "light"
     },
     "output_type": "display_data"
    }
   ],
   "source": [
    "# 上位region\n",
    "universe.groupby(\"region\").count().sort_values(by=\"stock_id\").tail(8).plot()"
   ]
  },
  {
   "cell_type": "markdown",
   "metadata": {},
   "source": [
    "blank: US->blank  \n",
    "JT: JP-> .T  \n",
    "KS: KR-> .KS  \n",
    "LN: UK-> .L  \n",
    "TT: ??  \n",
    "AU: AUD-> .AX  \n",
    "GY: Deutche-> .DE  \n",
    "FP: France-> .PA\n",
    "\n",
    "MM: Mexico  \n",
    "BS: Brasil-> .SA   \n",
    ".: Toronto-> .TO  \n",
    "TI: Istanbur-> .IS  \n",
    "SW: Swiss-> .SW"
   ]
  },
  {
   "cell_type": "markdown",
   "metadata": {},
   "source": [
    "---"
   ]
  },
  {
   "cell_type": "markdown",
   "metadata": {},
   "source": [
    "### LeaderBoard"
   ]
  },
  {
   "cell_type": "code",
   "execution_count": 16,
   "metadata": {},
   "outputs": [],
   "source": [
    "lb = pd.DataFrame(napi.get_leaderboard(limit=500))"
   ]
  },
  {
   "cell_type": "code",
   "execution_count": 17,
   "metadata": {},
   "outputs": [
    {
     "data": {
      "text/html": [
       "<div>\n",
       "<style scoped>\n",
       "    .dataframe tbody tr th:only-of-type {\n",
       "        vertical-align: middle;\n",
       "    }\n",
       "\n",
       "    .dataframe tbody tr th {\n",
       "        vertical-align: top;\n",
       "    }\n",
       "\n",
       "    .dataframe thead th {\n",
       "        text-align: right;\n",
       "    }\n",
       "</style>\n",
       "<table border=\"1\" class=\"dataframe\">\n",
       "  <thead>\n",
       "    <tr style=\"text-align: right;\">\n",
       "      <th></th>\n",
       "      <th>averageCorrelationPayout</th>\n",
       "      <th>badges</th>\n",
       "      <th>bonusPerc</th>\n",
       "      <th>leaderboardBonus</th>\n",
       "      <th>nmrStaked</th>\n",
       "      <th>oldStakeValue</th>\n",
       "      <th>payoutPending</th>\n",
       "      <th>payoutSettled</th>\n",
       "      <th>prevRank</th>\n",
       "      <th>prevStakedRank</th>\n",
       "      <th>rank</th>\n",
       "      <th>reputation</th>\n",
       "      <th>rolling_score_rep</th>\n",
       "      <th>stakedRank</th>\n",
       "      <th>tier</th>\n",
       "      <th>username</th>\n",
       "    </tr>\n",
       "  </thead>\n",
       "  <tbody>\n",
       "    <tr>\n",
       "      <th>0</th>\n",
       "      <td>0.000000000000000000</td>\n",
       "      <td>[burned_2]</td>\n",
       "      <td>0.0</td>\n",
       "      <td>0.000000000000000000</td>\n",
       "      <td>0E-18</td>\n",
       "      <td>None</td>\n",
       "      <td>0.000000000000000000</td>\n",
       "      <td>0.000000000000000000</td>\n",
       "      <td>1</td>\n",
       "      <td>NaN</td>\n",
       "      <td>1</td>\n",
       "      <td>0.294052</td>\n",
       "      <td>0.067754</td>\n",
       "      <td>NaN</td>\n",
       "      <td>?</td>\n",
       "      <td>oblique</td>\n",
       "    </tr>\n",
       "    <tr>\n",
       "      <th>1</th>\n",
       "      <td>0.000000000000000000</td>\n",
       "      <td>[submission-streak_1, burned_2, compute_0]</td>\n",
       "      <td>5.0</td>\n",
       "      <td>0.000000000000000000</td>\n",
       "      <td>4.788297108047401000</td>\n",
       "      <td>None</td>\n",
       "      <td>-0.206154572835379660</td>\n",
       "      <td>-0.206154572835379660</td>\n",
       "      <td>2</td>\n",
       "      <td>1.0</td>\n",
       "      <td>2</td>\n",
       "      <td>0.268462</td>\n",
       "      <td>0.062918</td>\n",
       "      <td>1.0</td>\n",
       "      <td>S+</td>\n",
       "      <td>hb</td>\n",
       "    </tr>\n",
       "    <tr>\n",
       "      <th>2</th>\n",
       "      <td>0.000000000000000000</td>\n",
       "      <td>[burned_2]</td>\n",
       "      <td>0.0</td>\n",
       "      <td>0.000000000000000000</td>\n",
       "      <td>0E-18</td>\n",
       "      <td>None</td>\n",
       "      <td>0.000000000000000000</td>\n",
       "      <td>0.000000000000000000</td>\n",
       "      <td>7</td>\n",
       "      <td>NaN</td>\n",
       "      <td>3</td>\n",
       "      <td>0.245121</td>\n",
       "      <td>0.056970</td>\n",
       "      <td>NaN</td>\n",
       "      <td>?</td>\n",
       "      <td>orthogonal</td>\n",
       "    </tr>\n",
       "    <tr>\n",
       "      <th>3</th>\n",
       "      <td>0.000000000000000000</td>\n",
       "      <td>[submission-streak_1, burned_3]</td>\n",
       "      <td>4.0</td>\n",
       "      <td>0.157974415459681660</td>\n",
       "      <td>49.876409717263940000</td>\n",
       "      <td>None</td>\n",
       "      <td>-1.801953342801189100</td>\n",
       "      <td>-1.801953342801189100</td>\n",
       "      <td>3</td>\n",
       "      <td>2.0</td>\n",
       "      <td>4</td>\n",
       "      <td>0.254333</td>\n",
       "      <td>0.056850</td>\n",
       "      <td>2.0</td>\n",
       "      <td>S</td>\n",
       "      <td>yudanshaii</td>\n",
       "    </tr>\n",
       "    <tr>\n",
       "      <th>4</th>\n",
       "      <td>0.000000000000000000</td>\n",
       "      <td>[submission-streak_1, burned_3]</td>\n",
       "      <td>4.0</td>\n",
       "      <td>0.059556840396499860</td>\n",
       "      <td>23.642447531512445000</td>\n",
       "      <td>None</td>\n",
       "      <td>-0.034963150556524250</td>\n",
       "      <td>-0.034963150556524250</td>\n",
       "      <td>5</td>\n",
       "      <td>4.0</td>\n",
       "      <td>5</td>\n",
       "      <td>0.282211</td>\n",
       "      <td>0.056566</td>\n",
       "      <td>3.0</td>\n",
       "      <td>S</td>\n",
       "      <td>akumei2</td>\n",
       "    </tr>\n",
       "  </tbody>\n",
       "</table>\n",
       "</div>"
      ],
      "text/plain": [
       "  averageCorrelationPayout                                      badges  \\\n",
       "0     0.000000000000000000                                  [burned_2]   \n",
       "1     0.000000000000000000  [submission-streak_1, burned_2, compute_0]   \n",
       "2     0.000000000000000000                                  [burned_2]   \n",
       "3     0.000000000000000000             [submission-streak_1, burned_3]   \n",
       "4     0.000000000000000000             [submission-streak_1, burned_3]   \n",
       "\n",
       "   bonusPerc      leaderboardBonus              nmrStaked oldStakeValue  \\\n",
       "0        0.0  0.000000000000000000                  0E-18          None   \n",
       "1        5.0  0.000000000000000000   4.788297108047401000          None   \n",
       "2        0.0  0.000000000000000000                  0E-18          None   \n",
       "3        4.0  0.157974415459681660  49.876409717263940000          None   \n",
       "4        4.0  0.059556840396499860  23.642447531512445000          None   \n",
       "\n",
       "           payoutPending          payoutSettled  prevRank  prevStakedRank  \\\n",
       "0   0.000000000000000000   0.000000000000000000         1             NaN   \n",
       "1  -0.206154572835379660  -0.206154572835379660         2             1.0   \n",
       "2   0.000000000000000000   0.000000000000000000         7             NaN   \n",
       "3  -1.801953342801189100  -1.801953342801189100         3             2.0   \n",
       "4  -0.034963150556524250  -0.034963150556524250         5             4.0   \n",
       "\n",
       "   rank  reputation  rolling_score_rep  stakedRank tier    username  \n",
       "0     1    0.294052           0.067754         NaN    ?     oblique  \n",
       "1     2    0.268462           0.062918         1.0   S+          hb  \n",
       "2     3    0.245121           0.056970         NaN    ?  orthogonal  \n",
       "3     4    0.254333           0.056850         2.0    S  yudanshaii  \n",
       "4     5    0.282211           0.056566         3.0    S     akumei2  "
      ]
     },
     "execution_count": 17,
     "metadata": {},
     "output_type": "execute_result"
    }
   ],
   "source": [
    "lb.head()"
   ]
  },
  {
   "cell_type": "code",
   "execution_count": 18,
   "metadata": {},
   "outputs": [
    {
     "data": {
      "text/plain": [
       "(500, 16)"
      ]
     },
     "execution_count": 18,
     "metadata": {},
     "output_type": "execute_result"
    }
   ],
   "source": [
    "lb.shape"
   ]
  },
  {
   "cell_type": "markdown",
   "metadata": {},
   "source": [
    "---"
   ]
  },
  {
   "cell_type": "markdown",
   "metadata": {},
   "source": [
    "### get_user_activities"
   ]
  },
  {
   "cell_type": "code",
   "execution_count": 52,
   "metadata": {},
   "outputs": [],
   "source": [
    "username = lb.username.iloc[0]"
   ]
  },
  {
   "cell_type": "code",
   "execution_count": 41,
   "metadata": {},
   "outputs": [],
   "source": [
    "user_log = pd.DataFrame(napi.get_user_activities(lb.username.iloc[15]))\n",
    "user_sub = pd.DataFrame(user_log.submission.tolist())"
   ]
  },
  {
   "cell_type": "code",
   "execution_count": 63,
   "metadata": {},
   "outputs": [
    {
     "data": {
      "text/html": [
       "<div>\n",
       "<style scoped>\n",
       "    .dataframe tbody tr th:only-of-type {\n",
       "        vertical-align: middle;\n",
       "    }\n",
       "\n",
       "    .dataframe tbody tr th {\n",
       "        vertical-align: top;\n",
       "    }\n",
       "\n",
       "    .dataframe thead th {\n",
       "        text-align: right;\n",
       "    }\n",
       "</style>\n",
       "<table border=\"1\" class=\"dataframe\">\n",
       "  <thead>\n",
       "    <tr style=\"text-align: right;\">\n",
       "      <th></th>\n",
       "      <th>concordance</th>\n",
       "      <th>consistency</th>\n",
       "      <th>date</th>\n",
       "      <th>liveAuroc</th>\n",
       "      <th>liveCorrelation</th>\n",
       "      <th>liveLogloss</th>\n",
       "      <th>validationAuroc</th>\n",
       "      <th>validationCorrelation</th>\n",
       "      <th>validationLogloss</th>\n",
       "    </tr>\n",
       "  </thead>\n",
       "  <tbody>\n",
       "    <tr>\n",
       "      <th>0</th>\n",
       "      <td>None</td>\n",
       "      <td>NaN</td>\n",
       "      <td>2020-07-19 05:37:40+00:00</td>\n",
       "      <td>None</td>\n",
       "      <td>None</td>\n",
       "      <td>None</td>\n",
       "      <td>None</td>\n",
       "      <td>0.024249</td>\n",
       "      <td>None</td>\n",
       "    </tr>\n",
       "    <tr>\n",
       "      <th>1</th>\n",
       "      <td>None</td>\n",
       "      <td>NaN</td>\n",
       "      <td>2020-07-11 19:31:13+00:00</td>\n",
       "      <td>None</td>\n",
       "      <td>None</td>\n",
       "      <td>None</td>\n",
       "      <td>None</td>\n",
       "      <td>0.024249</td>\n",
       "      <td>None</td>\n",
       "    </tr>\n",
       "    <tr>\n",
       "      <th>2</th>\n",
       "      <td>None</td>\n",
       "      <td>NaN</td>\n",
       "      <td>2020-07-04 19:29:35+00:00</td>\n",
       "      <td>None</td>\n",
       "      <td>None</td>\n",
       "      <td>None</td>\n",
       "      <td>None</td>\n",
       "      <td>0.024249</td>\n",
       "      <td>None</td>\n",
       "    </tr>\n",
       "    <tr>\n",
       "      <th>3</th>\n",
       "      <td>None</td>\n",
       "      <td>NaN</td>\n",
       "      <td>2020-06-27 19:35:12+00:00</td>\n",
       "      <td>None</td>\n",
       "      <td>None</td>\n",
       "      <td>None</td>\n",
       "      <td>None</td>\n",
       "      <td>0.024249</td>\n",
       "      <td>None</td>\n",
       "    </tr>\n",
       "    <tr>\n",
       "      <th>4</th>\n",
       "      <td>None</td>\n",
       "      <td>NaN</td>\n",
       "      <td>2020-06-20 19:35:25+00:00</td>\n",
       "      <td>None</td>\n",
       "      <td>None</td>\n",
       "      <td>None</td>\n",
       "      <td>None</td>\n",
       "      <td>0.024249</td>\n",
       "      <td>None</td>\n",
       "    </tr>\n",
       "  </tbody>\n",
       "</table>\n",
       "</div>"
      ],
      "text/plain": [
       "  concordance  consistency                      date liveAuroc  \\\n",
       "0        None          NaN 2020-07-19 05:37:40+00:00      None   \n",
       "1        None          NaN 2020-07-11 19:31:13+00:00      None   \n",
       "2        None          NaN 2020-07-04 19:29:35+00:00      None   \n",
       "3        None          NaN 2020-06-27 19:35:12+00:00      None   \n",
       "4        None          NaN 2020-06-20 19:35:25+00:00      None   \n",
       "\n",
       "  liveCorrelation liveLogloss validationAuroc  validationCorrelation  \\\n",
       "0            None        None            None               0.024249   \n",
       "1            None        None            None               0.024249   \n",
       "2            None        None            None               0.024249   \n",
       "3            None        None            None               0.024249   \n",
       "4            None        None            None               0.024249   \n",
       "\n",
       "  validationLogloss  \n",
       "0              None  \n",
       "1              None  \n",
       "2              None  \n",
       "3              None  \n",
       "4              None  "
      ]
     },
     "execution_count": 63,
     "metadata": {},
     "output_type": "execute_result"
    }
   ],
   "source": [
    "user_sub.head(5)"
   ]
  },
  {
   "cell_type": "code",
   "execution_count": null,
   "metadata": {},
   "outputs": [],
   "source": []
  },
  {
   "cell_type": "markdown",
   "metadata": {},
   "source": [
    "---"
   ]
  },
  {
   "cell_type": "markdown",
   "metadata": {},
   "source": [
    "### daily_submissions_performances"
   ]
  },
  {
   "cell_type": "code",
   "execution_count": 60,
   "metadata": {},
   "outputs": [],
   "source": [
    "df = pd.DataFrame(napi.daily_submissions_performances(username=username))"
   ]
  },
  {
   "cell_type": "code",
   "execution_count": 62,
   "metadata": {},
   "outputs": [
    {
     "data": {
      "text/html": [
       "<div>\n",
       "<style scoped>\n",
       "    .dataframe tbody tr th:only-of-type {\n",
       "        vertical-align: middle;\n",
       "    }\n",
       "\n",
       "    .dataframe tbody tr th {\n",
       "        vertical-align: top;\n",
       "    }\n",
       "\n",
       "    .dataframe thead th {\n",
       "        text-align: right;\n",
       "    }\n",
       "</style>\n",
       "<table border=\"1\" class=\"dataframe\">\n",
       "  <thead>\n",
       "    <tr style=\"text-align: right;\">\n",
       "      <th></th>\n",
       "      <th>correlation</th>\n",
       "      <th>correlationWithMetamodel</th>\n",
       "      <th>date</th>\n",
       "      <th>mmc</th>\n",
       "      <th>roundNumber</th>\n",
       "    </tr>\n",
       "  </thead>\n",
       "  <tbody>\n",
       "    <tr>\n",
       "      <th>0</th>\n",
       "      <td>-0.030603</td>\n",
       "      <td>-0.674683</td>\n",
       "      <td>2019-08-15 00:00:00+00:00</td>\n",
       "      <td>-0.009393</td>\n",
       "      <td>172</td>\n",
       "    </tr>\n",
       "    <tr>\n",
       "      <th>1</th>\n",
       "      <td>0.039165</td>\n",
       "      <td>-0.674683</td>\n",
       "      <td>2019-08-16 00:00:00+00:00</td>\n",
       "      <td>0.026826</td>\n",
       "      <td>172</td>\n",
       "    </tr>\n",
       "    <tr>\n",
       "      <th>2</th>\n",
       "      <td>0.051502</td>\n",
       "      <td>-0.674683</td>\n",
       "      <td>2019-08-17 00:00:00+00:00</td>\n",
       "      <td>0.041294</td>\n",
       "      <td>172</td>\n",
       "    </tr>\n",
       "    <tr>\n",
       "      <th>3</th>\n",
       "      <td>0.041285</td>\n",
       "      <td>-0.674683</td>\n",
       "      <td>2019-08-20 00:00:00+00:00</td>\n",
       "      <td>0.027829</td>\n",
       "      <td>172</td>\n",
       "    </tr>\n",
       "    <tr>\n",
       "      <th>4</th>\n",
       "      <td>0.036954</td>\n",
       "      <td>-0.674683</td>\n",
       "      <td>2019-08-21 00:00:00+00:00</td>\n",
       "      <td>0.025733</td>\n",
       "      <td>172</td>\n",
       "    </tr>\n",
       "  </tbody>\n",
       "</table>\n",
       "</div>"
      ],
      "text/plain": [
       "   correlation  correlationWithMetamodel                      date       mmc  \\\n",
       "0    -0.030603                 -0.674683 2019-08-15 00:00:00+00:00 -0.009393   \n",
       "1     0.039165                 -0.674683 2019-08-16 00:00:00+00:00  0.026826   \n",
       "2     0.051502                 -0.674683 2019-08-17 00:00:00+00:00  0.041294   \n",
       "3     0.041285                 -0.674683 2019-08-20 00:00:00+00:00  0.027829   \n",
       "4     0.036954                 -0.674683 2019-08-21 00:00:00+00:00  0.025733   \n",
       "\n",
       "   roundNumber  \n",
       "0          172  \n",
       "1          172  \n",
       "2          172  \n",
       "3          172  \n",
       "4          172  "
      ]
     },
     "execution_count": 62,
     "metadata": {},
     "output_type": "execute_result"
    }
   ],
   "source": [
    "df.head()"
   ]
  },
  {
   "cell_type": "code",
   "execution_count": 69,
   "metadata": {},
   "outputs": [
    {
     "data": {
      "text/plain": [
       "<matplotlib.axes._subplots.AxesSubplot at 0x7f0f75c14908>"
      ]
     },
     "execution_count": 69,
     "metadata": {},
     "output_type": "execute_result"
    },
    {
     "data": {
      "image/png": "[encoded data removed]",
      "text/plain": [
       "<Figure size 432x288 with 1 Axes>"
      ]
     },
     "metadata": {
      "needs_background": "light"
     },
     "output_type": "display_data"
    }
   ],
   "source": [
    "df.set_index(\"date\").correlation.plot()"
   ]
  },
  {
   "cell_type": "code",
   "execution_count": 72,
   "metadata": {},
   "outputs": [],
   "source": [
    "df = pd.DataFrame(napi.daily_submissions_performances(username=\"uki\"))"
   ]
  },
  {
   "cell_type": "code",
   "execution_count": 75,
   "metadata": {},
   "outputs": [
    {
     "data": {
      "text/plain": [
       "<matplotlib.axes._subplots.AxesSubplot at 0x7f0f75559e48>"
      ]
     },
     "execution_count": 75,
     "metadata": {},
     "output_type": "execute_result"
    },
    {
     "data": {
      "image/png": "[encoded data removed]",
      "text/plain": [
       "<Figure size 432x288 with 1 Axes>"
      ]
     },
     "metadata": {
      "needs_background": "light"
     },
     "output_type": "display_data"
    }
   ],
   "source": [
    "df.set_index(\"date\")[[\"correlation\", \"correlationWithMetamodel\"]].plot()"
   ]
  },
  {
   "cell_type": "code",
   "execution_count": null,
   "metadata": {},
   "outputs": [],
   "source": []
  }
 ],
 "metadata": {
  "kernelspec": {
   "display_name": "anaconda3530",
   "language": "python",
   "name": "anaconda3530"
  },
  "language_info": {
   "codemirror_mode": {
    "name": "ipython",
    "version": 3
   },
   "file_extension": ".py",
   "mimetype": "text/x-python",
   "name": "python",
   "nbconvert_exporter": "python",
   "pygments_lexer": "ipython3",
   "version": "3.7.0"
  }
 },
 "nbformat": 4,
 "nbformat_minor": 2
}
