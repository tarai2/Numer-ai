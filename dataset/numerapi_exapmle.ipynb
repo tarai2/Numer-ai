{
 "cells": [
  {
   "cell_type": "code",
   "execution_count": 2,
   "metadata": {},
   "outputs": [],
   "source": [
    "import io\n",
    "import requests\n",
    "import numerapi"
   ]
  },
  {
   "cell_type": "code",
   "execution_count": 3,
   "metadata": {},
   "outputs": [],
   "source": [
    "napi = numerapi.NumerAPI(verbosity='info')"
   ]
  },
  {
   "cell_type": "markdown",
   "metadata": {},
   "source": [
    "---\n",
    "### 投資可能ユニバース"
   ]
  },
  {
   "cell_type": "markdown",
   "metadata": {},
   "source": [
    "https://numerai-quant-public-data.s3-us-west-2.amazonaws.com/example_predictions/latest.csv"
   ]
  },
  {
   "cell_type": "code",
   "execution_count": 35,
   "metadata": {},
   "outputs": [],
   "source": [
    "res = requests.get(\"https://numerai-quant-public-data.s3-us-west-2.amazonaws.com/example_predictions/latest.csv\")"
   ]
  },
  {
   "cell_type": "code",
   "execution_count": 36,
   "metadata": {},
   "outputs": [],
   "source": [
    "df = pd.read_csv(io.StringIO(res.content.decode('utf-8')), header=0, index_col=0)"
   ]
  },
  {
   "cell_type": "code",
   "execution_count": 37,
   "metadata": {},
   "outputs": [
    {
     "data": {
      "text/html": [
       "<div>\n",
       "<style scoped>\n",
       "    .dataframe tbody tr th:only-of-type {\n",
       "        vertical-align: middle;\n",
       "    }\n",
       "\n",
       "    .dataframe tbody tr th {\n",
       "        vertical-align: top;\n",
       "    }\n",
       "\n",
       "    .dataframe thead th {\n",
       "        text-align: right;\n",
       "    }\n",
       "</style>\n",
       "<table border=\"1\" class=\"dataframe\">\n",
       "  <thead>\n",
       "    <tr style=\"text-align: right;\">\n",
       "      <th></th>\n",
       "      <th>prediction</th>\n",
       "    </tr>\n",
       "    <tr>\n",
       "      <th>ticker</th>\n",
       "      <th></th>\n",
       "    </tr>\n",
       "  </thead>\n",
       "  <tbody>\n",
       "    <tr>\n",
       "      <th>1999 HK</th>\n",
       "      <td>0.548814</td>\n",
       "    </tr>\n",
       "    <tr>\n",
       "      <th>1972 HK</th>\n",
       "      <td>0.715189</td>\n",
       "    </tr>\n",
       "    <tr>\n",
       "      <th>1299 HK</th>\n",
       "      <td>0.602763</td>\n",
       "    </tr>\n",
       "  </tbody>\n",
       "</table>\n",
       "</div>"
      ],
      "text/plain": [
       "         prediction\n",
       "ticker             \n",
       "1999 HK    0.548814\n",
       "1972 HK    0.715189\n",
       "1299 HK    0.602763"
      ]
     },
     "execution_count": 37,
     "metadata": {},
     "output_type": "execute_result"
    }
   ],
   "source": [
    "df.head(3)"
   ]
  },
  {
   "cell_type": "code",
   "execution_count": 38,
   "metadata": {},
   "outputs": [
    {
     "data": {
      "text/html": [
       "<div>\n",
       "<style scoped>\n",
       "    .dataframe tbody tr th:only-of-type {\n",
       "        vertical-align: middle;\n",
       "    }\n",
       "\n",
       "    .dataframe tbody tr th {\n",
       "        vertical-align: top;\n",
       "    }\n",
       "\n",
       "    .dataframe thead th {\n",
       "        text-align: right;\n",
       "    }\n",
       "</style>\n",
       "<table border=\"1\" class=\"dataframe\">\n",
       "  <thead>\n",
       "    <tr style=\"text-align: right;\">\n",
       "      <th></th>\n",
       "      <th>stock_id</th>\n",
       "      <th>region</th>\n",
       "    </tr>\n",
       "  </thead>\n",
       "  <tbody>\n",
       "    <tr>\n",
       "      <th>0</th>\n",
       "      <td>1999</td>\n",
       "      <td>HK</td>\n",
       "    </tr>\n",
       "    <tr>\n",
       "      <th>1</th>\n",
       "      <td>1972</td>\n",
       "      <td>HK</td>\n",
       "    </tr>\n",
       "    <tr>\n",
       "      <th>2</th>\n",
       "      <td>1299</td>\n",
       "      <td>HK</td>\n",
       "    </tr>\n",
       "  </tbody>\n",
       "</table>\n",
       "</div>"
      ],
      "text/plain": [
       "  stock_id region\n",
       "0     1999     HK\n",
       "1     1972     HK\n",
       "2     1299     HK"
      ]
     },
     "execution_count": 38,
     "metadata": {},
     "output_type": "execute_result"
    }
   ],
   "source": [
    "# stock_idとregionのdataframe\n",
    "universe = pd.DataFrame([val.split(\" \") for val in df.index.values], columns=[\"stock_id\", \"region\"])\n",
    "universe.fillna(\"blank\", inplace=True)\n",
    "universe.head(3)"
   ]
  },
  {
   "cell_type": "code",
   "execution_count": 39,
   "metadata": {},
   "outputs": [
    {
     "data": {
      "text/plain": [
       "<matplotlib.axes._subplots.AxesSubplot at 0x7f2023042748>"
      ]
     },
     "execution_count": 39,
     "metadata": {},
     "output_type": "execute_result"
    },
    {
     "data": {
      "image/png": "[encoded data removed]",
      "text/plain": [
       "<Figure size 432x288 with 1 Axes>"
      ]
     },
     "metadata": {
      "needs_background": "light"
     },
     "output_type": "display_data"
    }
   ],
   "source": [
    "# 上位region\n",
    "universe.groupby(\"region\").count().sort_values(by=\"stock_id\").tail(8).plot()"
   ]
  },
  {
   "cell_type": "markdown",
   "metadata": {},
   "source": [
    "blank: US->blank  \n",
    "JT: JP-> .T  \n",
    "KS: KR-> .KS  \n",
    "LN: UK-> .L  \n",
    "TT: ??  \n",
    "AU: AUD-> .AX  \n",
    "GY: Deutche-> .DE  \n",
    "FP: France-> .PA\n",
    "\n",
    "MM: Mexico  \n",
    "BS: Brasil-> .SA   \n",
    ".: Toronto-> .TO  \n",
    "TI: Istanbur-> .IS  \n",
    "SW: Swiss-> .SW"
   ]
  },
  {
   "cell_type": "markdown",
   "metadata": {},
   "source": [
    "---\n",
    "YahooFinance用の個別株Ticker作成"
   ]
  },
  {
   "cell_type": "code",
   "execution_count": 40,
   "metadata": {},
   "outputs": [],
   "source": [
    "main_universe_region = universe.groupby(\"region\").count().sort_values(by=\"stock_id\").tail(8).index.values"
   ]
  },
  {
   "cell_type": "code",
   "execution_count": 43,
   "metadata": {},
   "outputs": [],
   "source": [
    "# 上位regionのみ抜き出し, regionコードをYahooのものに置換\n",
    "main_universe_region\\\n",
    "= universe.groupby(\"region\").count().sort_values(by=\"stock_id\").tail(8).index.values\n",
    "main_universe = universe\\\n",
    ".query(\"region in @main_universe_region\")\\\n",
    ".replace({\n",
    "    \"blank\" : \"\",\n",
    "    \"JT\" : \".T\",\n",
    "    \"KS\" : \".KS\",\n",
    "    \"LN\" : \".L\",\n",
    "    \"AU\" : \".AX\",\n",
    "    \"GY\" : \".DE\",\n",
    "    \"FP\" : \".PA\"\n",
    "})\n",
    "# USのidの末尾の.を消す\n",
    "main_universe.stock_id = main_universe.stock_id.apply(lambda x: x.replace(\".\", \"\"))"
   ]
  },
  {
   "cell_type": "code",
   "execution_count": 45,
   "metadata": {},
   "outputs": [
    {
     "data": {
      "text/plain": [
       "array(['060980.KS', '108320.KS', '128940.KS', ..., 'GEI', 'EQB', 'WSP'],\n",
       "      dtype=object)"
      ]
     },
     "execution_count": 45,
     "metadata": {},
     "output_type": "execute_result"
    }
   ],
   "source": [
    "main_universe.sum(axis=1).values"
   ]
  },
  {
   "cell_type": "code",
   "execution_count": null,
   "metadata": {},
   "outputs": [],
   "source": [
    "main_universe"
   ]
  },
  {
   "cell_type": "code",
   "execution_count": 46,
   "metadata": {},
   "outputs": [],
   "source": [
    "main_universe.stock_id = main_universe.stock_id.apply(lambda x: x.replace(\".\", \"\"))"
   ]
  },
  {
   "cell_type": "code",
   "execution_count": 55,
   "metadata": {},
   "outputs": [],
   "source": [
    "res = requests.get(\n",
    "    \"https://numerai-quant-public-data.s3-us-west-2.amazonaws.com/example_predictions/latest.csv\"\n",
    ")\n",
    "df = pd.read_csv(io.StringIO(res.content.decode('utf-8')), header=0, index_col=0)\n",
    "\n",
    "# reform\n",
    "universe =\\\n",
    "    pd.DataFrame([val.split(\" \") for val in df.index.values], columns=[\"stock_id\", \"region\"]).fillna(\"blank\")\n",
    "\n",
    "# extract & replace\n",
    "main_universe_regions =\\\n",
    "    [\"JT\", \"KS\", \"LN\", \"AU\", \"GY\", \"FP\", \"blank\"]\n",
    "\n",
    "main_universe =\\\n",
    "    universe\\\n",
    "    .query(\"region in @main_universe_regions\")\\\n",
    "    .replace({\n",
    "        \"blank\": \"\",\n",
    "        \"JT\": \".T\",\n",
    "        \"KS\": \".KS\",\n",
    "        \"LN\": \".L\",\n",
    "        \"AU\": \".AX\",\n",
    "        \"GY\": \".DE\",\n",
    "        \"FP\": \".PA\"\n",
    "    })\n",
    "# USのidの末尾の.を消しておく\n",
    "main_universe.stock_id = main_universe.stock_id.apply(lambda x: x.replace(\".\", \"\"))\n",
    "\n",
    "# 結合することでYahooFinanceIDに直す\n",
    "main_stock_ids = main_universe.sum(axis=1).reset_index(drop=True).values.tolist()"
   ]
  },
  {
   "cell_type": "code",
   "execution_count": null,
   "metadata": {},
   "outputs": [],
   "source": []
  },
  {
   "cell_type": "code",
   "execution_count": null,
   "metadata": {},
   "outputs": [],
   "source": []
  },
  {
   "cell_type": "code",
   "execution_count": null,
   "metadata": {},
   "outputs": [],
   "source": []
  },
  {
   "cell_type": "markdown",
   "metadata": {},
   "source": [
    "---\n",
    "Enum"
   ]
  },
  {
   "cell_type": "code",
   "execution_count": 31,
   "metadata": {},
   "outputs": [],
   "source": [
    "from enum import Enum\n",
    "\n",
    "\n",
    "class Country(Enum):\n",
    "    US = \"US\"\n",
    "    JP = \"JP\"\n",
    "    UK = \"UK\"\n",
    "    KS = \"KS\"\n",
    "    DE = \"DE\"\n",
    "    FR = \"FR\"\n",
    "    AU = \"AU\"\n",
    "            \n",
    "    def toNumerai(self):\n",
    "        if self == Country.US: return \"\"\n",
    "        if self == Country.JP: return \"JT\"\n",
    "        if self == Country.UK: return \"LN\"\n",
    "        if self == Country.KS: return \"KS\"\n",
    "        if self == Country.FR: return \"FP\"\n",
    "        if self == Country.AU: return \"AS\"\n",
    "        if self == Country.DE: return \"GY\"\n",
    "    \n",
    "    def toYahoo(self):\n",
    "        if self == Country.US: return \"\"\n",
    "        if self == Country.JP: return \".T\"\n",
    "        if self == Country.UK: return \".L\"\n",
    "        if self == Country.KS: return \".KS\"\n",
    "        if self == Country.FR: return \".PA\"\n",
    "        if self == Country.AU: return \".AX\"\n",
    "        if self == Country.DE: return \".DE\"\n",
    "    \n",
    "    @staticmethod\n",
    "    def getCountryCode(country_code):\n",
    "        if country_code == \"\": return Country.US\n",
    "        elif country_code == \"JT\" or country_code == \".T\": return Country.JP\n",
    "        elif country_code == \"LN\" or country_code == \".L\": return Country.UK\n",
    "        elif country_code == \"KS\" or country_code == \".KS\": return Country.KS\n",
    "        elif country_code == \"FP\" or country_code == \".PA\": return Country.FR\n",
    "        elif country_code == \"AS\" or country_code == \".AX\": return Country.AU\n",
    "        elif country_code == \"GY\" or country_code == \".DE\": return Country.DE\n",
    "    "
   ]
  },
  {
   "cell_type": "code",
   "execution_count": 28,
   "metadata": {},
   "outputs": [
    {
     "data": {
      "text/plain": [
       "'.DE'"
      ]
     },
     "execution_count": 28,
     "metadata": {},
     "output_type": "execute_result"
    }
   ],
   "source": [
    "Country.DE.toYahoo()"
   ]
  },
  {
   "cell_type": "code",
   "execution_count": 34,
   "metadata": {},
   "outputs": [],
   "source": [
    "import json"
   ]
  },
  {
   "cell_type": "code",
   "execution_count": null,
   "metadata": {},
   "outputs": [],
   "source": [
    "json.dump(, file, indent=4)"
   ]
  }
 ],
 "metadata": {
  "kernelspec": {
   "display_name": "anaconda3530",
   "language": "python",
   "name": "anaconda3530"
  },
  "language_info": {
   "codemirror_mode": {
    "name": "ipython",
    "version": 3
   },
   "file_extension": ".py",
   "mimetype": "text/x-python",
   "name": "python",
   "nbconvert_exporter": "python",
   "pygments_lexer": "ipython3",
   "version": "3.7.0"
  }
 },
 "nbformat": 4,
 "nbformat_minor": 2
}
