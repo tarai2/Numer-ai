{
 "cells": [
  {
   "cell_type": "markdown",
   "metadata": {},
   "source": [
    "optunaでtuningしたlgbmsをRFでensemble"
   ]
  },
  {
   "cell_type": "code",
   "execution_count": 13,
   "metadata": {},
   "outputs": [],
   "source": [
    "import seaborn as sns\n",
    "import csv\n",
    "import optuna\n",
    "import itertools, logging, joblib\n",
    "\n",
    "from sklearn.ensemble import RandomForestRegressor\n",
    "from sklearn.metrics import mean_squared_error\n",
    "from sklearn.model_selection import train_test_split\n",
    "NOTE_NAME = \"lgbm2\""
   ]
  },
  {
   "cell_type": "code",
   "execution_count": 6,
   "metadata": {},
   "outputs": [],
   "source": [
    "ROUND = \"238\"\n",
    "TARGET_NAME = f\"target\"\n",
    "PREDICTION_NAME = f\"prediction\"\n",
    "N_FEATURE = 310\n",
    "N_MODEL = 8"
   ]
  },
  {
   "cell_type": "code",
   "execution_count": 37,
   "metadata": {},
   "outputs": [
    {
     "name": "stderr",
     "output_type": "stream",
     "text": [
      "/home/tarai/.pyenv/versions/anaconda3-5.3.0/lib/python3.7/site-packages/IPython/core/interactiveshell.py:2785: DtypeWarning: Columns (11) have mixed types.Specify dtype option on import or set low_memory=False.\n",
      "  interactivity=interactivity, compiler=compiler, result=result)\n"
     ]
    }
   ],
   "source": [
    "# signal\n",
    "signals = pd.read_csv(f\"{NOTE_NAME}/lgbm2_signals_train.csv\", index_col=[\"id\"])\n",
    "val_signals = pd.read_csv(f\"{NOTE_NAME}/lgbm2_signals_val.csv\", index_col=[\"id\"])"
   ]
  },
  {
   "cell_type": "markdown",
   "metadata": {},
   "source": [
    "--- \n",
    "### Fit RFReg\n"
   ]
  },
  {
   "cell_type": "code",
   "execution_count": 8,
   "metadata": {},
   "outputs": [],
   "source": [
    "# set logger\n",
    "logger = logging.getLogger()  # root logger\n",
    "fh = logging.FileHandler(f'{NOTE_NAME}/train3.log')\n",
    "fh.setFormatter(logging.Formatter('%(asctime)s|%(message)s', '%Y-%m-%d %H:%M:%S'))\n",
    "logger.addHandler(fh)\n",
    "\n",
    "optuna.logging.enable_propagation()  # Propagate logs to the root logger.\n",
    "optuna.logging.disable_default_handler()  # Stop showing logs in sys.stderr."
   ]
  },
  {
   "cell_type": "code",
   "execution_count": 17,
   "metadata": {},
   "outputs": [],
   "source": [
    "# test/train split\n",
    "cols_feature = [str(i) for i in range(N_MODEL)]\n",
    "_train, _val = train_test_split(signals.loc[:, cols_feature+[TARGET_NAME]], train_size=0.9, random_state=1)"
   ]
  },
  {
   "cell_type": "code",
   "execution_count": 18,
   "metadata": {},
   "outputs": [],
   "source": [
    "# train signal data\n",
    "cols_feature = [str(i) for i in range(N_MODEL)]\n",
    "_train, _val = train_test_split(signals.loc[:, cols_feature+[TARGET_NAME]])\n",
    "X_train, y_train = _train.loc[:, cols_feature], _train[TARGET_NAME]\n",
    "X_val, y_val = _val.loc[:, cols_feature], _val[TARGET_NAME]"
   ]
  },
  {
   "cell_type": "code",
   "execution_count": 19,
   "metadata": {},
   "outputs": [],
   "source": [
    "def objective(trial):\n",
    "    max_depth = trial.suggest_int(\"max_depth\", 3, 29, 2)\n",
    "    min_samples_leaf = trial.suggest_uniform(\"min_samples_leaf\", 0.01, 0.50)\n",
    "    reg = RandomForestRegressor(\n",
    "        criterion=\"mse\",\n",
    "        max_features=None,\n",
    "        max_depth=max_depth, \n",
    "        min_samples_leaf=min_samples_leaf)\n",
    "    reg.fit(X_train, y_train)\n",
    "    y_pred = reg.predict(X_val)\n",
    "    mse = mean_squared_error(y_val, y_pred)\n",
    "    return mse"
   ]
  },
  {
   "cell_type": "code",
   "execution_count": null,
   "metadata": {},
   "outputs": [],
   "source": [
    "study = optuna.create_study()\n",
    "study.optimize(objective, n_trials=100)"
   ]
  },
  {
   "cell_type": "code",
   "execution_count": 22,
   "metadata": {},
   "outputs": [
    {
     "data": {
      "text/plain": [
       "{'max_depth': 23, 'min_samples_leaf': 0.010028285494760753}"
      ]
     },
     "execution_count": 22,
     "metadata": {},
     "output_type": "execute_result"
    }
   ],
   "source": [
    "study.best_params"
   ]
  },
  {
   "cell_type": "code",
   "execution_count": 35,
   "metadata": {},
   "outputs": [
    {
     "data": {
      "text/plain": [
       "RandomForestRegressor(max_depth=23, max_features=None,\n",
       "                      min_samples_leaf=0.010028285494760753)"
      ]
     },
     "execution_count": 35,
     "metadata": {},
     "output_type": "execute_result"
    }
   ],
   "source": [
    "reg = RandomForestRegressor(\n",
    "    criterion=\"mse\",\n",
    "    max_features=None,\n",
    "    max_depth=study.best_params[\"max_depth\"], \n",
    "    min_samples_leaf=study.best_params[\"min_samples_leaf\"])\n",
    "reg.fit(X_train, y_train)"
   ]
  },
  {
   "cell_type": "code",
   "execution_count": 36,
   "metadata": {},
   "outputs": [
    {
     "data": {
      "text/plain": [
       "['lgbm2/RFReg.pkl']"
      ]
     },
     "execution_count": 36,
     "metadata": {},
     "output_type": "execute_result"
    }
   ],
   "source": [
    "joblib.dump(reg, f\"{NOTE_NAMETE_NAMETE_NAME}/RFReg.pkl\")"
   ]
  },
  {
   "cell_type": "code",
   "execution_count": 39,
   "metadata": {},
   "outputs": [],
   "source": [
    "signals2 = pd.DataFrame(reg.predict(signals.iloc[:, :N_MODEL]), index=signals.index,\n",
    "                        columns=[\"pred\"]).join(signals[[\"era\", \"target\"]])"
   ]
  },
  {
   "cell_type": "code",
   "execution_count": 38,
   "metadata": {},
   "outputs": [],
   "source": [
    "val_signals2 = pd.DataFrame(reg.predict(val_signals.iloc[:, :N_MODEL]), index=val_signals.index,\n",
    "                            columns=[\"pred\"]).join(val_signals[[\"era\", \"target\"]])"
   ]
  },
  {
   "cell_type": "code",
   "execution_count": 40,
   "metadata": {},
   "outputs": [
    {
     "data": {
      "text/html": [
       "<div>\n",
       "<style scoped>\n",
       "    .dataframe tbody tr th:only-of-type {\n",
       "        vertical-align: middle;\n",
       "    }\n",
       "\n",
       "    .dataframe tbody tr th {\n",
       "        vertical-align: top;\n",
       "    }\n",
       "\n",
       "    .dataframe thead th {\n",
       "        text-align: right;\n",
       "    }\n",
       "</style>\n",
       "<table border=\"1\" class=\"dataframe\">\n",
       "  <thead>\n",
       "    <tr style=\"text-align: right;\">\n",
       "      <th></th>\n",
       "      <th>pred</th>\n",
       "      <th>era</th>\n",
       "      <th>target</th>\n",
       "    </tr>\n",
       "    <tr>\n",
       "      <th>id</th>\n",
       "      <th></th>\n",
       "      <th></th>\n",
       "      <th></th>\n",
       "    </tr>\n",
       "  </thead>\n",
       "  <tbody>\n",
       "    <tr>\n",
       "      <th>n000315175b67977</th>\n",
       "      <td>0.487527</td>\n",
       "      <td>era1</td>\n",
       "      <td>0.5</td>\n",
       "    </tr>\n",
       "  </tbody>\n",
       "</table>\n",
       "</div>"
      ],
      "text/plain": [
       "                      pred   era  target\n",
       "id                                      \n",
       "n000315175b67977  0.487527  era1     0.5"
      ]
     },
     "execution_count": 40,
     "metadata": {},
     "output_type": "execute_result"
    }
   ],
   "source": [
    "signals2.head(1)"
   ]
  },
  {
   "cell_type": "code",
   "execution_count": null,
   "metadata": {},
   "outputs": [],
   "source": []
  },
  {
   "cell_type": "markdown",
   "metadata": {},
   "source": [
    "---\n",
    "### Eval"
   ]
  },
  {
   "cell_type": "markdown",
   "metadata": {},
   "source": [
    "#### CORR"
   ]
  },
  {
   "cell_type": "code",
   "execution_count": 42,
   "metadata": {},
   "outputs": [],
   "source": [
    "# Submissions are scored by spearman correlation\n",
    "def calcRankCorr(i):\n",
    "    def _main(df):\n",
    "        ranked_preds = df[i].rank(pct=True, method=\"first\")\n",
    "        return np.corrcoef(ranked_preds, df[TARGET_NAME])[0, 1]\n",
    "    return _main"
   ]
  },
  {
   "cell_type": "code",
   "execution_count": 43,
   "metadata": {},
   "outputs": [],
   "source": [
    "# era毎にcorr計算\n",
    "corr = signals2.groupby(\"era\").apply(calcRankCorr(\"pred\"))\n",
    "val_corr = val_signals2.groupby(\"era\").apply(calcRankCorr(\"pred\"))"
   ]
  },
  {
   "cell_type": "code",
   "execution_count": 44,
   "metadata": {},
   "outputs": [
    {
     "data": {
      "text/html": [
       "<div>\n",
       "<style scoped>\n",
       "    .dataframe tbody tr th:only-of-type {\n",
       "        vertical-align: middle;\n",
       "    }\n",
       "\n",
       "    .dataframe tbody tr th {\n",
       "        vertical-align: top;\n",
       "    }\n",
       "\n",
       "    .dataframe thead th {\n",
       "        text-align: right;\n",
       "    }\n",
       "</style>\n",
       "<table border=\"1\" class=\"dataframe\">\n",
       "  <thead>\n",
       "    <tr style=\"text-align: right;\">\n",
       "      <th></th>\n",
       "      <th>0</th>\n",
       "    </tr>\n",
       "  </thead>\n",
       "  <tbody>\n",
       "    <tr>\n",
       "      <th>mean</th>\n",
       "      <td>0.152671</td>\n",
       "    </tr>\n",
       "    <tr>\n",
       "      <th>std</th>\n",
       "      <td>0.024312</td>\n",
       "    </tr>\n",
       "    <tr>\n",
       "      <th>&lt;lambda&gt;</th>\n",
       "      <td>6.279708</td>\n",
       "    </tr>\n",
       "  </tbody>\n",
       "</table>\n",
       "</div>"
      ],
      "text/plain": [
       "                 0\n",
       "mean      0.152671\n",
       "std       0.024312\n",
       "<lambda>  6.279708"
      ]
     },
     "execution_count": 44,
     "metadata": {},
     "output_type": "execute_result"
    }
   ],
   "source": [
    "# in sample score\n",
    "corr.agg([\"mean\", \"std\", lambda x: x.mean()/x.std()]).to_frame()"
   ]
  },
  {
   "cell_type": "code",
   "execution_count": 45,
   "metadata": {},
   "outputs": [
    {
     "data": {
      "text/html": [
       "<div>\n",
       "<style scoped>\n",
       "    .dataframe tbody tr th:only-of-type {\n",
       "        vertical-align: middle;\n",
       "    }\n",
       "\n",
       "    .dataframe tbody tr th {\n",
       "        vertical-align: top;\n",
       "    }\n",
       "\n",
       "    .dataframe thead th {\n",
       "        text-align: right;\n",
       "    }\n",
       "</style>\n",
       "<table border=\"1\" class=\"dataframe\">\n",
       "  <thead>\n",
       "    <tr style=\"text-align: right;\">\n",
       "      <th></th>\n",
       "      <th>0</th>\n",
       "    </tr>\n",
       "  </thead>\n",
       "  <tbody>\n",
       "    <tr>\n",
       "      <th>mean</th>\n",
       "      <td>0.017970</td>\n",
       "    </tr>\n",
       "    <tr>\n",
       "      <th>std</th>\n",
       "      <td>0.019971</td>\n",
       "    </tr>\n",
       "    <tr>\n",
       "      <th>&lt;lambda&gt;</th>\n",
       "      <td>0.899785</td>\n",
       "    </tr>\n",
       "  </tbody>\n",
       "</table>\n",
       "</div>"
      ],
      "text/plain": [
       "                 0\n",
       "mean      0.017970\n",
       "std       0.019971\n",
       "<lambda>  0.899785"
      ]
     },
     "execution_count": 45,
     "metadata": {},
     "output_type": "execute_result"
    }
   ],
   "source": [
    "# validation sample score\n",
    "val_corr.agg([\"mean\", \"std\", lambda x: x.mean()/x.std()]).to_frame()"
   ]
  },
  {
   "cell_type": "code",
   "execution_count": 49,
   "metadata": {},
   "outputs": [
    {
     "data": {
      "image/png": "[encoded data removed]",
      "text/plain": [
       "<Figure size 432x288 with 1 Axes>"
      ]
     },
     "metadata": {
      "needs_background": "light"
     },
     "output_type": "display_data"
    }
   ],
   "source": [
    "plt.bar(np.arange(reg.feature_importances_.shape[0]), reg.feature_importances_);"
   ]
  },
  {
   "cell_type": "code",
   "execution_count": 53,
   "metadata": {},
   "outputs": [
    {
     "data": {
      "image/png": "[encoded data removed]",
      "text/plain": [
       "<Figure size 432x288 with 1 Axes>"
      ]
     },
     "metadata": {
      "needs_background": "light"
     },
     "output_type": "display_data"
    }
   ],
   "source": [
    "val_corr.cumsum().plot();"
   ]
  },
  {
   "cell_type": "code",
   "execution_count": 54,
   "metadata": {},
   "outputs": [
    {
     "data": {
      "text/html": [
       "<div>\n",
       "<style scoped>\n",
       "    .dataframe tbody tr th:only-of-type {\n",
       "        vertical-align: middle;\n",
       "    }\n",
       "\n",
       "    .dataframe tbody tr th {\n",
       "        vertical-align: top;\n",
       "    }\n",
       "\n",
       "    .dataframe thead th {\n",
       "        text-align: right;\n",
       "    }\n",
       "</style>\n",
       "<table border=\"1\" class=\"dataframe\">\n",
       "  <thead>\n",
       "    <tr style=\"text-align: right;\">\n",
       "      <th></th>\n",
       "      <th>pred</th>\n",
       "      <th>era</th>\n",
       "      <th>target</th>\n",
       "    </tr>\n",
       "    <tr>\n",
       "      <th>id</th>\n",
       "      <th></th>\n",
       "      <th></th>\n",
       "      <th></th>\n",
       "    </tr>\n",
       "  </thead>\n",
       "  <tbody>\n",
       "    <tr>\n",
       "      <th>n0003aa52cab36c2</th>\n",
       "      <td>0.509689</td>\n",
       "      <td>era121</td>\n",
       "      <td>0.25</td>\n",
       "    </tr>\n",
       "    <tr>\n",
       "      <th>n000920ed083903f</th>\n",
       "      <td>0.489394</td>\n",
       "      <td>era121</td>\n",
       "      <td>0.50</td>\n",
       "    </tr>\n",
       "    <tr>\n",
       "      <th>n0038e640522c4a6</th>\n",
       "      <td>0.549561</td>\n",
       "      <td>era121</td>\n",
       "      <td>1.00</td>\n",
       "    </tr>\n",
       "    <tr>\n",
       "      <th>n004ac94a87dc54b</th>\n",
       "      <td>0.553053</td>\n",
       "      <td>era121</td>\n",
       "      <td>0.50</td>\n",
       "    </tr>\n",
       "    <tr>\n",
       "      <th>n0052fe97ea0c05f</th>\n",
       "      <td>0.507718</td>\n",
       "      <td>era121</td>\n",
       "      <td>0.75</td>\n",
       "    </tr>\n",
       "    <tr>\n",
       "      <th>...</th>\n",
       "      <td>...</td>\n",
       "      <td>...</td>\n",
       "      <td>...</td>\n",
       "    </tr>\n",
       "    <tr>\n",
       "      <th>nffa978d27d95877</th>\n",
       "      <td>0.509415</td>\n",
       "      <td>eraX</td>\n",
       "      <td>NaN</td>\n",
       "    </tr>\n",
       "    <tr>\n",
       "      <th>nffc0ac8f014eee1</th>\n",
       "      <td>0.512449</td>\n",
       "      <td>eraX</td>\n",
       "      <td>NaN</td>\n",
       "    </tr>\n",
       "    <tr>\n",
       "      <th>nffc3d2a31602573</th>\n",
       "      <td>0.503524</td>\n",
       "      <td>eraX</td>\n",
       "      <td>NaN</td>\n",
       "    </tr>\n",
       "    <tr>\n",
       "      <th>nffcbbd1c5eb2f75</th>\n",
       "      <td>0.486608</td>\n",
       "      <td>eraX</td>\n",
       "      <td>NaN</td>\n",
       "    </tr>\n",
       "    <tr>\n",
       "      <th>nfff6afa3f605657</th>\n",
       "      <td>0.558062</td>\n",
       "      <td>eraX</td>\n",
       "      <td>NaN</td>\n",
       "    </tr>\n",
       "  </tbody>\n",
       "</table>\n",
       "<p>1581162 rows × 3 columns</p>\n",
       "</div>"
      ],
      "text/plain": [
       "                      pred     era  target\n",
       "id                                        \n",
       "n0003aa52cab36c2  0.509689  era121    0.25\n",
       "n000920ed083903f  0.489394  era121    0.50\n",
       "n0038e640522c4a6  0.549561  era121    1.00\n",
       "n004ac94a87dc54b  0.553053  era121    0.50\n",
       "n0052fe97ea0c05f  0.507718  era121    0.75\n",
       "...                    ...     ...     ...\n",
       "nffa978d27d95877  0.509415    eraX     NaN\n",
       "nffc0ac8f014eee1  0.512449    eraX     NaN\n",
       "nffc3d2a31602573  0.503524    eraX     NaN\n",
       "nffcbbd1c5eb2f75  0.486608    eraX     NaN\n",
       "nfff6afa3f605657  0.558062    eraX     NaN\n",
       "\n",
       "[1581162 rows x 3 columns]"
      ]
     },
     "execution_count": 54,
     "metadata": {},
     "output_type": "execute_result"
    }
   ],
   "source": [
    "val_signals2"
   ]
  },
  {
   "cell_type": "markdown",
   "metadata": {},
   "source": [
    "---\n",
    "#### Submit"
   ]
  },
  {
   "cell_type": "code",
   "execution_count": 69,
   "metadata": {},
   "outputs": [],
   "source": [
    "import numerapi\n",
    "sys.path.append(\"../../\"); import auth_info"
   ]
  },
  {
   "cell_type": "code",
   "execution_count": 59,
   "metadata": {},
   "outputs": [],
   "source": [
    "# tournament_index = \\\n",
    "#     pd.read_csv(f\"../../dataset/numerai_dataset_{ROUND}/numerai_tournament_data.csv\", usecols=[\"id\", \"era\", \"data_type\"], index_col=[\"id\"])"
   ]
  },
  {
   "cell_type": "code",
   "execution_count": 80,
   "metadata": {},
   "outputs": [],
   "source": [
    "submission_csv = val_signals2.pred.to_frame(PREDICTION_NAME)"
   ]
  },
  {
   "cell_type": "code",
   "execution_count": 81,
   "metadata": {},
   "outputs": [
    {
     "data": {
      "text/html": [
       "<div>\n",
       "<style scoped>\n",
       "    .dataframe tbody tr th:only-of-type {\n",
       "        vertical-align: middle;\n",
       "    }\n",
       "\n",
       "    .dataframe tbody tr th {\n",
       "        vertical-align: top;\n",
       "    }\n",
       "\n",
       "    .dataframe thead th {\n",
       "        text-align: right;\n",
       "    }\n",
       "</style>\n",
       "<table border=\"1\" class=\"dataframe\">\n",
       "  <thead>\n",
       "    <tr style=\"text-align: right;\">\n",
       "      <th></th>\n",
       "      <th>prediction</th>\n",
       "    </tr>\n",
       "    <tr>\n",
       "      <th>id</th>\n",
       "      <th></th>\n",
       "    </tr>\n",
       "  </thead>\n",
       "  <tbody>\n",
       "    <tr>\n",
       "      <th>n0003aa52cab36c2</th>\n",
       "      <td>0.509689</td>\n",
       "    </tr>\n",
       "  </tbody>\n",
       "</table>\n",
       "</div>"
      ],
      "text/plain": [
       "                  prediction\n",
       "id                          \n",
       "n0003aa52cab36c2    0.509689"
      ]
     },
     "execution_count": 81,
     "metadata": {},
     "output_type": "execute_result"
    }
   ],
   "source": [
    "submission_csv.head(1)"
   ]
  },
  {
   "cell_type": "code",
   "execution_count": 82,
   "metadata": {},
   "outputs": [],
   "source": [
    "submission_csv.to_csv(f\"{NOTE_NAME}/submission_rf.csv\")"
   ]
  },
  {
   "cell_type": "code",
   "execution_count": 83,
   "metadata": {},
   "outputs": [
    {
     "data": {
      "text/plain": [
       "{'concordance': None,\n",
       " 'consistency': None,\n",
       " 'corrWithExamplePreds': 0.6826662184315225,\n",
       " 'filename': 'submission_rf-GnQVAcZ7vJKX.csv',\n",
       " 'validationCorrelation': 0.017969519462009333,\n",
       " 'validationFeatureExposure': None,\n",
       " 'validationSharpe': 0.9162959970363684}"
      ]
     },
     "execution_count": 83,
     "metadata": {},
     "output_type": "execute_result"
    }
   ],
   "source": [
    "# upload predictions\n",
    "napi = numerapi.NumerAPI(auth_info.PUBLIC_KEY, auth_info.PRIVATE_KEY)\n",
    "model_id = napi.get_models()['at496']\n",
    "napi.upload_predictions(f\"{NOTE_NAME}/submission_rf.csv\", model_id=model_id)\n",
    "\n",
    "# check submission status\n",
    "napi.submission_status(model_id)"
   ]
  },
  {
   "cell_type": "code",
   "execution_count": 87,
   "metadata": {},
   "outputs": [
    {
     "data": {
      "text/plain": [
       "{'at496': '547a5163-3d5c-41b1-a823-4e52fec993c7'}"
      ]
     },
     "execution_count": 87,
     "metadata": {},
     "output_type": "execute_result"
    }
   ],
   "source": [
    "napi.get_models()"
   ]
  },
  {
   "cell_type": "code",
   "execution_count": null,
   "metadata": {},
   "outputs": [],
   "source": []
  },
  {
   "cell_type": "code",
   "execution_count": null,
   "metadata": {},
   "outputs": [],
   "source": []
  }
 ],
 "metadata": {
  "kernelspec": {
   "display_name": "anaconda3530",
   "language": "python",
   "name": "anaconda3530"
  },
  "language_info": {
   "codemirror_mode": {
    "name": "ipython",
    "version": 3
   },
   "file_extension": ".py",
   "mimetype": "text/x-python",
   "name": "python",
   "nbconvert_exporter": "python",
   "pygments_lexer": "ipython3",
   "version": "3.7.0"
  }
 },
 "nbformat": 4,
 "nbformat_minor": 2
}
