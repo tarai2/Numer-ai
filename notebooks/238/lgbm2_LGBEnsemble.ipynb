{
 "cells": [
  {
   "cell_type": "markdown",
   "metadata": {},
   "source": [
    "LGBMをOptunaでチューニング... \n",
    "fExp上位(=fImp上位)のFeatureを順に削っていき順次モデル作成\n"
   ]
  },
  {
   "cell_type": "code",
   "execution_count": 1,
   "metadata": {},
   "outputs": [],
   "source": [
    "import seaborn as sns\n",
    "import csv\n",
    "import optuna\n",
    "import optuna.integration.lightgbm as lgb\n",
    "import itertools, logging, joblib\n",
    "from sklearn.model_selection import train_test_split\n",
    "NOTE_NAME = \"lgbm2\""
   ]
  },
  {
   "cell_type": "code",
   "execution_count": 2,
   "metadata": {},
   "outputs": [],
   "source": [
    "ROUND = \"238\"\n",
    "TARGET_NAME = f\"target\"\n",
    "PREDICTION_NAME = f\"prediction\"\n",
    "N_FEATURE = 310\n",
    "N_MODEL = 8"
   ]
  },
  {
   "cell_type": "code",
   "execution_count": 16,
   "metadata": {},
   "outputs": [
    {
     "name": "stderr",
     "output_type": "stream",
     "text": [
      "/home/tarai/.pyenv/versions/anaconda3-5.3.0/lib/python3.7/site-packages/IPython/core/interactiveshell.py:2785: DtypeWarning: Columns (11) have mixed types.Specify dtype option on import or set low_memory=False.\n",
      "  interactivity=interactivity, compiler=compiler, result=result)\n"
     ]
    }
   ],
   "source": [
    "# signal\n",
    "signals = pd.read_csv(f\"{NOTE_NAME}/lgbm2_signals_train.csv\", index_col=[\"id\"])\n",
    "val_signals = pd.read_csv(f\"{NOTE_NAME}/lgbm2_signals_val.csv\", index_col=[\"id\"])"
   ]
  },
  {
   "cell_type": "code",
   "execution_count": 4,
   "metadata": {},
   "outputs": [
    {
     "data": {
      "text/html": [
       "<div>\n",
       "<style scoped>\n",
       "    .dataframe tbody tr th:only-of-type {\n",
       "        vertical-align: middle;\n",
       "    }\n",
       "\n",
       "    .dataframe tbody tr th {\n",
       "        vertical-align: top;\n",
       "    }\n",
       "\n",
       "    .dataframe thead th {\n",
       "        text-align: right;\n",
       "    }\n",
       "</style>\n",
       "<table border=\"1\" class=\"dataframe\">\n",
       "  <thead>\n",
       "    <tr style=\"text-align: right;\">\n",
       "      <th></th>\n",
       "      <th>0</th>\n",
       "      <th>1</th>\n",
       "      <th>2</th>\n",
       "      <th>3</th>\n",
       "      <th>4</th>\n",
       "      <th>5</th>\n",
       "      <th>6</th>\n",
       "      <th>7</th>\n",
       "      <th>era</th>\n",
       "      <th>target</th>\n",
       "      <th>eraNum</th>\n",
       "    </tr>\n",
       "    <tr>\n",
       "      <th>id</th>\n",
       "      <th></th>\n",
       "      <th></th>\n",
       "      <th></th>\n",
       "      <th></th>\n",
       "      <th></th>\n",
       "      <th></th>\n",
       "      <th></th>\n",
       "      <th></th>\n",
       "      <th></th>\n",
       "      <th></th>\n",
       "      <th></th>\n",
       "    </tr>\n",
       "  </thead>\n",
       "  <tbody>\n",
       "    <tr>\n",
       "      <th>n000315175b67977</th>\n",
       "      <td>0.49238</td>\n",
       "      <td>0.497202</td>\n",
       "      <td>0.495247</td>\n",
       "      <td>0.495192</td>\n",
       "      <td>0.49639</td>\n",
       "      <td>0.502217</td>\n",
       "      <td>0.501421</td>\n",
       "      <td>0.500243</td>\n",
       "      <td>era1</td>\n",
       "      <td>0.5</td>\n",
       "      <td>1</td>\n",
       "    </tr>\n",
       "  </tbody>\n",
       "</table>\n",
       "</div>"
      ],
      "text/plain": [
       "                        0         1         2         3        4         5  \\\n",
       "id                                                                           \n",
       "n000315175b67977  0.49238  0.497202  0.495247  0.495192  0.49639  0.502217   \n",
       "\n",
       "                         6         7   era  target  eraNum  \n",
       "id                                                          \n",
       "n000315175b67977  0.501421  0.500243  era1     0.5       1  "
      ]
     },
     "execution_count": 4,
     "metadata": {},
     "output_type": "execute_result"
    }
   ],
   "source": [
    "signals.head(1)"
   ]
  },
  {
   "cell_type": "code",
   "execution_count": 7,
   "metadata": {},
   "outputs": [],
   "source": [
    "# set logger\n",
    "logger = logging.getLogger()  # root logger\n",
    "fh = logging.FileHandler(f'{NOTE_NAME}/train2.log')\n",
    "fh.setFormatter(logging.Formatter('%(asctime)s|%(message)s', '%Y-%m-%d %H:%M:%S'))\n",
    "logger.addHandler(fh)\n",
    "\n",
    "optuna.logging.enable_propagation()  # Propagate logs to the root logger.\n",
    "optuna.logging.disable_default_handler()  # Stop showing logs in sys.stderr."
   ]
  },
  {
   "cell_type": "code",
   "execution_count": 8,
   "metadata": {},
   "outputs": [],
   "source": [
    "# test/train split\n",
    "cols_feature = [str(i) for i in range(N_MODEL)]\n",
    "_train, _val = train_test_split(signals.loc[:, cols_feature+[TARGET_NAME]], train_size=0.9, random_state=1)"
   ]
  },
  {
   "cell_type": "code",
   "execution_count": 10,
   "metadata": {},
   "outputs": [
    {
     "name": "stderr",
     "output_type": "stream",
     "text": [
      "feature_fraction, val_score: 0.049392: 100%|##########| 7/7 [00:02<00:00,  2.84it/s]\n",
      "num_leaves, val_score: 0.049391: 100%|##########| 20/20 [00:07<00:00,  2.51it/s]\n",
      "bagging, val_score: 0.049385: 100%|##########| 10/10 [00:04<00:00,  2.41it/s]\n",
      "feature_fraction_stage2, val_score: 0.049385: 100%|##########| 6/6 [00:02<00:00,  2.36it/s]\n",
      "regularization_factors, val_score: 0.049385: 100%|##########| 20/20 [00:08<00:00,  2.39it/s]\n",
      "min_data_in_leaf, val_score: 0.049385: 100%|##########| 5/5 [00:02<00:00,  2.37it/s]\n",
      "/home/tarai/.pyenv/versions/anaconda3-5.3.0/lib/python3.7/site-packages/ipykernel_launcher.py:21: FutureWarning: best_booster has been deprecated in v1.4.0. This feature will be removed in v3.0.0.\n"
     ]
    },
    {
     "data": {
      "text/plain": [
       "['lgbm2/ensemble_lgb.pkl']"
      ]
     },
     "execution_count": 10,
     "metadata": {},
     "output_type": "execute_result"
    }
   ],
   "source": [
    "# set train data\n",
    "train_lgb = lgb.Dataset(_train.loc[:, cols_feature], label=_train[TARGET_NAME])\n",
    "val_lgb = lgb.Dataset(_val.loc[:, cols_feature], label=_val[TARGET_NAME])\n",
    "\n",
    "## fit setting \n",
    "default_params = {\n",
    "    'objective': 'regression',\n",
    "    'metric': 'l2',\n",
    "    'random_state': 1\n",
    "}\n",
    "\n",
    "model = lgb.LightGBMTuner(\n",
    "    default_params, train_lgb, valid_sets=val_lgb, early_stopping_rounds=40,\n",
    "    time_budget=3600*24, verbose_eval=False\n",
    ")\n",
    "\n",
    "# fit\n",
    "model.run()\n",
    "\n",
    "# save\n",
    "joblib.dump(model.best_booster, f\"{NOTE_NAME}/ensemble_lgb.pkl\")"
   ]
  },
  {
   "cell_type": "markdown",
   "metadata": {},
   "source": [
    "---"
   ]
  },
  {
   "cell_type": "code",
   "execution_count": 11,
   "metadata": {},
   "outputs": [
    {
     "data": {
      "text/plain": [
       "{'objective': 'regression',\n",
       " 'metric': 'l2',\n",
       " 'random_state': 1,\n",
       " 'feature_pre_filter': False,\n",
       " 'lambda_l1': 1.4109422037253559e-05,\n",
       " 'lambda_l2': 0.01539485038637797,\n",
       " 'num_leaves': 27,\n",
       " 'feature_fraction': 0.5479999999999999,\n",
       " 'bagging_fraction': 0.825354070883797,\n",
       " 'bagging_freq': 3,\n",
       " 'min_child_samples': 100}"
      ]
     },
     "execution_count": 11,
     "metadata": {},
     "output_type": "execute_result"
    }
   ],
   "source": [
    "model.best_params"
   ]
  },
  {
   "cell_type": "code",
   "execution_count": 7,
   "metadata": {},
   "outputs": [],
   "source": [
    "model = joblib.load(f\"{NOTE_NAME}/ensemble_lgb.pkl\")"
   ]
  },
  {
   "cell_type": "code",
   "execution_count": 19,
   "metadata": {},
   "outputs": [],
   "source": [
    "signals2 = pd.DataFrame(model.predict(signals.iloc[:, :N_MODEL]), index=signals.index,\n",
    "                        columns=[\"pred\"]).join(signals[[\"era\", \"target\"]])\n",
    "# signals2.to_csv(f\"{NOTE_NAME}/ensemble_pred.csv\")"
   ]
  },
  {
   "cell_type": "code",
   "execution_count": 20,
   "metadata": {},
   "outputs": [],
   "source": [
    "val_signals2 = pd.DataFrame(model.predict(val_signals.iloc[:, :N_MODEL]), index=val_signals.index,\n",
    "                            columns=[\"pred\"]).join(val_signals[[\"era\", \"target\"]])\n",
    "# val_signals2.to_csv(f\"{NOTE_NAME}/ensemble_pred_val.csv\")"
   ]
  },
  {
   "cell_type": "code",
   "execution_count": null,
   "metadata": {},
   "outputs": [],
   "source": []
  },
  {
   "cell_type": "code",
   "execution_count": null,
   "metadata": {},
   "outputs": [],
   "source": []
  },
  {
   "cell_type": "markdown",
   "metadata": {},
   "source": [
    "---  \n",
    "### Eval"
   ]
  },
  {
   "cell_type": "markdown",
   "metadata": {},
   "source": [
    "#### CORR"
   ]
  },
  {
   "cell_type": "code",
   "execution_count": 14,
   "metadata": {},
   "outputs": [],
   "source": [
    "# Submissions are scored by spearman correlation\n",
    "def calcRankCorr(i):\n",
    "    def _main(df):\n",
    "        ranked_preds = df[i].rank(pct=True, method=\"first\")\n",
    "        return np.corrcoef(ranked_preds, df[TARGET_NAME])[0, 1]\n",
    "    return _main"
   ]
  },
  {
   "cell_type": "code",
   "execution_count": 21,
   "metadata": {},
   "outputs": [],
   "source": [
    "# era毎にcorr計算\n",
    "corr = signals2.groupby(\"era\").apply(calcRankCorr(\"pred\"))\n",
    "val_corr = val_signals2.groupby(\"era\").apply(calcRankCorr(\"pred\"))"
   ]
  },
  {
   "cell_type": "code",
   "execution_count": 22,
   "metadata": {},
   "outputs": [
    {
     "data": {
      "text/html": [
       "<div>\n",
       "<style scoped>\n",
       "    .dataframe tbody tr th:only-of-type {\n",
       "        vertical-align: middle;\n",
       "    }\n",
       "\n",
       "    .dataframe tbody tr th {\n",
       "        vertical-align: top;\n",
       "    }\n",
       "\n",
       "    .dataframe thead th {\n",
       "        text-align: right;\n",
       "    }\n",
       "</style>\n",
       "<table border=\"1\" class=\"dataframe\">\n",
       "  <thead>\n",
       "    <tr style=\"text-align: right;\">\n",
       "      <th></th>\n",
       "      <th>0</th>\n",
       "    </tr>\n",
       "  </thead>\n",
       "  <tbody>\n",
       "    <tr>\n",
       "      <th>mean</th>\n",
       "      <td>0.142386</td>\n",
       "    </tr>\n",
       "    <tr>\n",
       "      <th>std</th>\n",
       "      <td>0.025752</td>\n",
       "    </tr>\n",
       "    <tr>\n",
       "      <th>&lt;lambda&gt;</th>\n",
       "      <td>5.529101</td>\n",
       "    </tr>\n",
       "  </tbody>\n",
       "</table>\n",
       "</div>"
      ],
      "text/plain": [
       "                 0\n",
       "mean      0.142386\n",
       "std       0.025752\n",
       "<lambda>  5.529101"
      ]
     },
     "execution_count": 22,
     "metadata": {},
     "output_type": "execute_result"
    }
   ],
   "source": [
    "# in sample score\n",
    "corr.agg([\"mean\", \"std\", lambda x: x.mean()/x.std()]).to_frame()"
   ]
  },
  {
   "cell_type": "code",
   "execution_count": 23,
   "metadata": {},
   "outputs": [
    {
     "data": {
      "text/html": [
       "<div>\n",
       "<style scoped>\n",
       "    .dataframe tbody tr th:only-of-type {\n",
       "        vertical-align: middle;\n",
       "    }\n",
       "\n",
       "    .dataframe tbody tr th {\n",
       "        vertical-align: top;\n",
       "    }\n",
       "\n",
       "    .dataframe thead th {\n",
       "        text-align: right;\n",
       "    }\n",
       "</style>\n",
       "<table border=\"1\" class=\"dataframe\">\n",
       "  <thead>\n",
       "    <tr style=\"text-align: right;\">\n",
       "      <th></th>\n",
       "      <th>0</th>\n",
       "    </tr>\n",
       "  </thead>\n",
       "  <tbody>\n",
       "    <tr>\n",
       "      <th>mean</th>\n",
       "      <td>0.017094</td>\n",
       "    </tr>\n",
       "    <tr>\n",
       "      <th>std</th>\n",
       "      <td>0.020127</td>\n",
       "    </tr>\n",
       "    <tr>\n",
       "      <th>&lt;lambda&gt;</th>\n",
       "      <td>0.849268</td>\n",
       "    </tr>\n",
       "  </tbody>\n",
       "</table>\n",
       "</div>"
      ],
      "text/plain": [
       "                 0\n",
       "mean      0.017094\n",
       "std       0.020127\n",
       "<lambda>  0.849268"
      ]
     },
     "execution_count": 23,
     "metadata": {},
     "output_type": "execute_result"
    }
   ],
   "source": [
    "# validation sample score\n",
    "val_corr.agg([\"mean\", \"std\", lambda x: x.mean()/x.std()]).to_frame()"
   ]
  },
  {
   "cell_type": "code",
   "execution_count": 13,
   "metadata": {},
   "outputs": [
    {
     "data": {
      "image/png": "[encoded data removed]",
      "text/plain": [
       "<Figure size 432x288 with 1 Axes>"
      ]
     },
     "metadata": {
      "needs_background": "light"
     },
     "output_type": "display_data"
    }
   ],
   "source": [
    "plt.bar(model.feature_name(), model.feature_importance());"
   ]
  },
  {
   "cell_type": "code",
   "execution_count": 26,
   "metadata": {},
   "outputs": [
    {
     "data": {
      "text/plain": [
       "<matplotlib.axes._subplots.AxesSubplot at 0x7f7154044f28>"
      ]
     },
     "execution_count": 26,
     "metadata": {},
     "output_type": "execute_result"
    },
    {
     "data": {
      "image/png": "[encoded data removed]",
      "text/plain": [
       "<Figure size 432x288 with 1 Axes>"
      ]
     },
     "metadata": {
      "needs_background": "light"
     },
     "output_type": "display_data"
    }
   ],
   "source": [
    "val_corr.cumsum().plot()"
   ]
  },
  {
   "cell_type": "code",
   "execution_count": null,
   "metadata": {},
   "outputs": [],
   "source": []
  }
 ],
 "metadata": {
  "kernelspec": {
   "display_name": "anaconda3530",
   "language": "python",
   "name": "anaconda3530"
  },
  "language_info": {
   "codemirror_mode": {
    "name": "ipython",
    "version": 3
   },
   "file_extension": ".py",
   "mimetype": "text/x-python",
   "name": "python",
   "nbconvert_exporter": "python",
   "pygments_lexer": "ipython3",
   "version": "3.7.0"
  }
 },
 "nbformat": 4,
 "nbformat_minor": 2
}
