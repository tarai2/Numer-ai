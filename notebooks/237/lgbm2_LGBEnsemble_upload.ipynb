{
 "cells": [
  {
   "cell_type": "code",
   "execution_count": 35,
   "metadata": {},
   "outputs": [],
   "source": [
    "import seaborn as sns\n",
    "import csv\n",
    "import optuna\n",
    "import optuna.integration.lightgbm as lgb\n",
    "import itertools, logging, joblib\n",
    "import numerox as nx\n",
    "import numerapi\n",
    "sys.path.append(\"../../\"); import auth_info\n",
    "NOTE_NAME = \"lgbm2\""
   ]
  },
  {
   "cell_type": "code",
   "execution_count": 2,
   "metadata": {},
   "outputs": [],
   "source": [
    "ROUND = \"237\"\n",
    "TOURNAMENT_NAME = \"kazutsugi\"\n",
    "TARGET_NAME = f\"target_{TOURNAMENT_NAME}\"\n",
    "PREDICTION_NAME = f\"prediction_{TOURNAMENT_NAME}\"\n",
    "N_FEATURE = 310"
   ]
  },
  {
   "cell_type": "code",
   "execution_count": 3,
   "metadata": {},
   "outputs": [],
   "source": [
    "# Load Dataset\n",
    "def read_csv(file_path):\n",
    "    with open(file_path, 'r') as f:\n",
    "        column_names = next(csv.reader(f))\n",
    "    dtypes = {x: np.float16 for x in column_names if x.startswith(('feature', 'target'))}\n",
    "    df = pd.read_csv(file_path, dtype=dtypes, index_col=0)\n",
    "    return df\n",
    "\n",
    "train = read_csv(\"../../dataset/numerai_dataset_237/numerai_training_data.csv\")\n",
    "tournament = read_csv(\"../../dataset/numerai_dataset_237/numerai_tournament_data.csv\")\n",
    "\n",
    "# reform\n",
    "train.sort_index(axis=1, inplace=True)\n",
    "tournament.sort_index(axis=1, inplace=True)\n",
    "cols_feature = train.columns[train.columns.str.contains(\"feature_\")]\n",
    "cols_target  = train.columns[train.columns.str.contains(\"target_\")]"
   ]
  },
  {
   "cell_type": "code",
   "execution_count": 5,
   "metadata": {},
   "outputs": [],
   "source": [
    "# load models\n",
    "base_models = [joblib.load(f\"{NOTE_NAME}/best_model_{i}.pkl\") for i in range(0,6)]\n",
    "top_model = joblib.load(f\"{NOTE_NAME}/ensemble_lgb.pkl\")"
   ]
  },
  {
   "cell_type": "code",
   "execution_count": 11,
   "metadata": {},
   "outputs": [],
   "source": [
    "# generate signals\n",
    "signals = pd.concat(\n",
    "    [pd.Series(m.predict(train.loc[:, m.feature_name()]), index=train.index, name=f\"model_{i}\") \n",
    "     for i,m in enumerate(base_models)], axis=1)\n",
    "signals[\"pred\"] = top_model.predict(signals)\n",
    "\n",
    "val_signals = pd.concat(\n",
    "    [pd.Series(m.predict(tournament.loc[:, m.feature_name()]), index=tournament.index, name=f\"model_{i}\") \n",
    "     for i,m in enumerate(base_models)], axis=1)\n",
    "val_signals[\"pred\"] = top_model.predict(val_signals)"
   ]
  },
  {
   "cell_type": "code",
   "execution_count": 12,
   "metadata": {},
   "outputs": [
    {
     "data": {
      "text/html": [
       "<div>\n",
       "<style scoped>\n",
       "    .dataframe tbody tr th:only-of-type {\n",
       "        vertical-align: middle;\n",
       "    }\n",
       "\n",
       "    .dataframe tbody tr th {\n",
       "        vertical-align: top;\n",
       "    }\n",
       "\n",
       "    .dataframe thead th {\n",
       "        text-align: right;\n",
       "    }\n",
       "</style>\n",
       "<table border=\"1\" class=\"dataframe\">\n",
       "  <thead>\n",
       "    <tr style=\"text-align: right;\">\n",
       "      <th></th>\n",
       "      <th>model_0</th>\n",
       "      <th>model_1</th>\n",
       "      <th>model_2</th>\n",
       "      <th>model_3</th>\n",
       "      <th>model_4</th>\n",
       "      <th>model_5</th>\n",
       "      <th>pred</th>\n",
       "    </tr>\n",
       "    <tr>\n",
       "      <th>id</th>\n",
       "      <th></th>\n",
       "      <th></th>\n",
       "      <th></th>\n",
       "      <th></th>\n",
       "      <th></th>\n",
       "      <th></th>\n",
       "      <th></th>\n",
       "    </tr>\n",
       "  </thead>\n",
       "  <tbody>\n",
       "    <tr>\n",
       "      <th>n0003aa52cab36c2</th>\n",
       "      <td>0.491723</td>\n",
       "      <td>0.472704</td>\n",
       "      <td>0.493346</td>\n",
       "      <td>0.493126</td>\n",
       "      <td>0.495358</td>\n",
       "      <td>0.495909</td>\n",
       "      <td>0.483723</td>\n",
       "    </tr>\n",
       "  </tbody>\n",
       "</table>\n",
       "</div>"
      ],
      "text/plain": [
       "                   model_0   model_1   model_2   model_3   model_4   model_5  \\\n",
       "id                                                                             \n",
       "n0003aa52cab36c2  0.491723  0.472704  0.493346  0.493126  0.495358  0.495909   \n",
       "\n",
       "                      pred  \n",
       "id                          \n",
       "n0003aa52cab36c2  0.483723  "
      ]
     },
     "execution_count": 12,
     "metadata": {},
     "output_type": "execute_result"
    }
   ],
   "source": [
    "val_signals.head(1)"
   ]
  },
  {
   "cell_type": "code",
   "execution_count": 28,
   "metadata": {},
   "outputs": [
    {
     "data": {
      "text/html": [
       "<div>\n",
       "<style scoped>\n",
       "    .dataframe tbody tr th:only-of-type {\n",
       "        vertical-align: middle;\n",
       "    }\n",
       "\n",
       "    .dataframe tbody tr th {\n",
       "        vertical-align: top;\n",
       "    }\n",
       "\n",
       "    .dataframe thead th {\n",
       "        text-align: right;\n",
       "    }\n",
       "</style>\n",
       "<table border=\"1\" class=\"dataframe\">\n",
       "  <thead>\n",
       "    <tr style=\"text-align: right;\">\n",
       "      <th></th>\n",
       "      <th>era</th>\n",
       "      <th>data_type</th>\n",
       "      <th>prediction_kazutsugi</th>\n",
       "    </tr>\n",
       "    <tr>\n",
       "      <th>id</th>\n",
       "      <th></th>\n",
       "      <th></th>\n",
       "      <th></th>\n",
       "    </tr>\n",
       "  </thead>\n",
       "  <tbody>\n",
       "    <tr>\n",
       "      <th>n0003aa52cab36c2</th>\n",
       "      <td>era121</td>\n",
       "      <td>validation</td>\n",
       "      <td>0.483723</td>\n",
       "    </tr>\n",
       "    <tr>\n",
       "      <th>n000920ed083903f</th>\n",
       "      <td>era121</td>\n",
       "      <td>validation</td>\n",
       "      <td>0.487245</td>\n",
       "    </tr>\n",
       "    <tr>\n",
       "      <th>n0038e640522c4a6</th>\n",
       "      <td>era121</td>\n",
       "      <td>validation</td>\n",
       "      <td>0.535500</td>\n",
       "    </tr>\n",
       "    <tr>\n",
       "      <th>n004ac94a87dc54b</th>\n",
       "      <td>era121</td>\n",
       "      <td>validation</td>\n",
       "      <td>0.504724</td>\n",
       "    </tr>\n",
       "    <tr>\n",
       "      <th>n0052fe97ea0c05f</th>\n",
       "      <td>era121</td>\n",
       "      <td>validation</td>\n",
       "      <td>0.495365</td>\n",
       "    </tr>\n",
       "    <tr>\n",
       "      <th>...</th>\n",
       "      <td>...</td>\n",
       "      <td>...</td>\n",
       "      <td>...</td>\n",
       "    </tr>\n",
       "    <tr>\n",
       "      <th>nffd239464395ebf</th>\n",
       "      <td>eraX</td>\n",
       "      <td>live</td>\n",
       "      <td>0.496788</td>\n",
       "    </tr>\n",
       "    <tr>\n",
       "      <th>nffd89078dbed0c8</th>\n",
       "      <td>eraX</td>\n",
       "      <td>live</td>\n",
       "      <td>0.518779</td>\n",
       "    </tr>\n",
       "    <tr>\n",
       "      <th>nffe7b410a2e9866</th>\n",
       "      <td>eraX</td>\n",
       "      <td>live</td>\n",
       "      <td>0.496468</td>\n",
       "    </tr>\n",
       "    <tr>\n",
       "      <th>nffef1ef7ea87c0b</th>\n",
       "      <td>eraX</td>\n",
       "      <td>live</td>\n",
       "      <td>0.517912</td>\n",
       "    </tr>\n",
       "    <tr>\n",
       "      <th>nfffd2286c1361bd</th>\n",
       "      <td>eraX</td>\n",
       "      <td>live</td>\n",
       "      <td>0.497728</td>\n",
       "    </tr>\n",
       "  </tbody>\n",
       "</table>\n",
       "<p>1679008 rows × 3 columns</p>\n",
       "</div>"
      ],
      "text/plain": [
       "                     era   data_type  prediction_kazutsugi\n",
       "id                                                        \n",
       "n0003aa52cab36c2  era121  validation              0.483723\n",
       "n000920ed083903f  era121  validation              0.487245\n",
       "n0038e640522c4a6  era121  validation              0.535500\n",
       "n004ac94a87dc54b  era121  validation              0.504724\n",
       "n0052fe97ea0c05f  era121  validation              0.495365\n",
       "...                  ...         ...                   ...\n",
       "nffd239464395ebf    eraX        live              0.496788\n",
       "nffd89078dbed0c8    eraX        live              0.518779\n",
       "nffe7b410a2e9866    eraX        live              0.496468\n",
       "nffef1ef7ea87c0b    eraX        live              0.517912\n",
       "nfffd2286c1361bd    eraX        live              0.497728\n",
       "\n",
       "[1679008 rows x 3 columns]"
      ]
     },
     "execution_count": 28,
     "metadata": {},
     "output_type": "execute_result"
    }
   ],
   "source": [
    "tournament[[\"era\", \"data_type\"]].join(val_signals.pred.rename(PREDICTION_NAME))"
   ]
  },
  {
   "cell_type": "code",
   "execution_count": 32,
   "metadata": {},
   "outputs": [],
   "source": [
    "# generate prediction csv\n",
    "val_signals.pred.rename(\"prediction\").to_frame().to_csv(f\"{NOTE_NAME}/preds.csv\")"
   ]
  },
  {
   "cell_type": "code",
   "execution_count": null,
   "metadata": {},
   "outputs": [
    {
     "name": "stderr",
     "output_type": "stream",
     "text": [
      "2020-11-19 10:50:56,544 INFO numerapi.base_api: uploading predictions...\n",
      "2020-11-19 10:51:09,271 ERROR numerapi.base_api: invalid submission ids. ids must match current tournament data exactly, including ordering. make sure you are using the latest tournament data\n"
     ]
    },
    {
     "name": "stdout",
     "output_type": "stream",
     "text": [
      "Upload exception - invalid submission ids. ids must match current tournament data exactly, including ordering. make sure you are using the latest tournament data\n"
     ]
    }
   ],
   "source": [
    "nx.upload(f'{NOTE_NAME}/preds.csv', TOURNAMENT_NAME, auth_info.PUBLIC_KEY, auth_info.PRIVATE_KEY, \n",
    "          model_id=auth_info.MODEL_ID[NOTE_NAME])"
   ]
  },
  {
   "cell_type": "code",
   "execution_count": null,
   "metadata": {},
   "outputs": [],
   "source": []
  }
 ],
 "metadata": {
  "kernelspec": {
   "display_name": "anaconda3530",
   "language": "python",
   "name": "anaconda3530"
  },
  "language_info": {
   "codemirror_mode": {
    "name": "ipython",
    "version": 3
   },
   "file_extension": ".py",
   "mimetype": "text/x-python",
   "name": "python",
   "nbconvert_exporter": "python",
   "pygments_lexer": "ipython3",
   "version": "3.7.0"
  }
 },
 "nbformat": 4,
 "nbformat_minor": 2
}
