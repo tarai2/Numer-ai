{
 "cells": [
  {
   "cell_type": "markdown",
   "metadata": {},
   "source": [
    "LGBMをOptunaでチューニング... \n",
    "fExp上位(=fImp上位)のFeatureを順に削っていき順次モデル作成\n"
   ]
  },
  {
   "cell_type": "code",
   "execution_count": 1,
   "metadata": {},
   "outputs": [],
   "source": [
    "import seaborn as sns\n",
    "import csv\n",
    "import optuna\n",
    "import optuna.integration.lightgbm as lgb\n",
    "import itertools, logging, joblib\n",
    "NOTE_NAME = \"lgbm2\""
   ]
  },
  {
   "cell_type": "code",
   "execution_count": 2,
   "metadata": {},
   "outputs": [],
   "source": [
    "ROUND = \"237\"\n",
    "TOURNAMENT_NAME = \"kazutsugi\"\n",
    "TARGET_NAME = f\"target_{TOURNAMENT_NAME}\"\n",
    "PREDICTION_NAME = f\"prediction_{TOURNAMENT_NAME}\"\n",
    "N_FEATURE = 310"
   ]
  },
  {
   "cell_type": "code",
   "execution_count": 3,
   "metadata": {},
   "outputs": [],
   "source": [
    "# signal\n",
    "signals = pd.read_csv(f\"{NOTE_NAME}/lgbm2_signals_train.csv\", index_col=[\"id\"])\n",
    "val_signals = pd.read_csv(f\"{NOTE_NAME}/lgbm2_signals_val.csv\", index_col=[\"id\"])"
   ]
  },
  {
   "cell_type": "code",
   "execution_count": 4,
   "metadata": {},
   "outputs": [],
   "source": [
    "# set logger\n",
    "logger = logging.getLogger()  # root logger\n",
    "fh = logging.FileHandler(f'{NOTE_NAME}/train4.log')\n",
    "fh.setFormatter(logging.Formatter('%(asctime)s|%(message)s', '%Y-%m-%d %H:%M:%S'))\n",
    "logger.addHandler(fh)\n",
    "\n",
    "optuna.logging.enable_propagation()  # Propagate logs to the root logger.\n",
    "optuna.logging.disable_default_handler()  # Stop showing logs in sys.stderr."
   ]
  },
  {
   "cell_type": "code",
   "execution_count": null,
   "metadata": {},
   "outputs": [
    {
     "name": "stderr",
     "output_type": "stream",
     "text": [
      "feature_fraction, val_score: inf:   0%|          | 0/7 [00:00<?, ?it/s]"
     ]
    }
   ],
   "source": [
    "# set train data\n",
    "train_lgb = lgb.Dataset(signals.iloc[:, :6], label=signals[TARGET_NAME])\n",
    "val_lgb = lgb.Dataset(val_signals.dropna().iloc[:, :6], val_signals.dropna()[TARGET_NAME])\n",
    "\n",
    "## fit setting \n",
    "default_params = {\n",
    "    'objective': 'regression',\n",
    "    'metric': 'l2',\n",
    "}\n",
    "\n",
    "best_params, tuning_history = dict(), list()\n",
    "model = lgb.LightGBMTuner(\n",
    "    default_params, train_lgb, valid_sets=val_lgb, early_stopping_rounds=40,\n",
    "    time_budget=3600*24, verbose_eval=False\n",
    ")\n",
    "\n",
    "# fit\n",
    "model.run()\n",
    "\n",
    "# save\n",
    "joblib.dump(model.best_booster, f\"{NOTE_NAME}/ensemble_lgb.pkl\")\n"
   ]
  },
  {
   "cell_type": "markdown",
   "metadata": {},
   "source": [
    "---"
   ]
  },
  {
   "cell_type": "code",
   "execution_count": 7,
   "metadata": {},
   "outputs": [
    {
     "data": {
      "text/plain": [
       "{'objective': 'regression',\n",
       " 'metric': 'l2',\n",
       " 'feature_pre_filter': False,\n",
       " 'lambda_l1': 0.0,\n",
       " 'lambda_l2': 0.0,\n",
       " 'num_leaves': 114,\n",
       " 'feature_fraction': 0.4,\n",
       " 'bagging_fraction': 0.9995331976144334,\n",
       " 'bagging_freq': 7,\n",
       " 'min_child_samples': 20}"
      ]
     },
     "execution_count": 7,
     "metadata": {},
     "output_type": "execute_result"
    }
   ],
   "source": [
    "model.best_params"
   ]
  },
  {
   "cell_type": "code",
   "execution_count": 19,
   "metadata": {},
   "outputs": [
    {
     "name": "stderr",
     "output_type": "stream",
     "text": [
      "/home/tarai/.pyenv/versions/anaconda3-5.3.0/lib/python3.7/site-packages/ipykernel_launcher.py:1: FutureWarning: best_booster has been deprecated in v1.4.0. This feature will be removed in v3.0.0.\n",
      "  \"\"\"Entry point for launching an IPython kernel.\n"
     ]
    }
   ],
   "source": [
    "pd.DataFrame(model.best_booster.predict(signals.iloc[:, :6]), index=signals.index, columns=[\"pred\"]).to_csv(f\"{NOTE_NAME}/ensemble_pred.csv\")"
   ]
  },
  {
   "cell_type": "code",
   "execution_count": 20,
   "metadata": {},
   "outputs": [
    {
     "name": "stderr",
     "output_type": "stream",
     "text": [
      "/home/tarai/.pyenv/versions/anaconda3-5.3.0/lib/python3.7/site-packages/ipykernel_launcher.py:1: FutureWarning: best_booster has been deprecated in v1.4.0. This feature will be removed in v3.0.0.\n",
      "  \"\"\"Entry point for launching an IPython kernel.\n"
     ]
    }
   ],
   "source": [
    "pd.DataFrame(model.best_booster.predict(val_signals.iloc[:, :6]), index=val_signals.index, columns=[\"pred\"]).to_csv(f\"{NOTE_NAME}/ensemble_pred_val.csv\")"
   ]
  },
  {
   "cell_type": "code",
   "execution_count": null,
   "metadata": {},
   "outputs": [],
   "source": []
  },
  {
   "cell_type": "code",
   "execution_count": null,
   "metadata": {},
   "outputs": [],
   "source": []
  }
 ],
 "metadata": {
  "kernelspec": {
   "display_name": "anaconda3530",
   "language": "python",
   "name": "anaconda3530"
  },
  "language_info": {
   "codemirror_mode": {
    "name": "ipython",
    "version": 3
   },
   "file_extension": ".py",
   "mimetype": "text/x-python",
   "name": "python",
   "nbconvert_exporter": "python",
   "pygments_lexer": "ipython3",
   "version": "3.7.0"
  }
 },
 "nbformat": 4,
 "nbformat_minor": 2
}
