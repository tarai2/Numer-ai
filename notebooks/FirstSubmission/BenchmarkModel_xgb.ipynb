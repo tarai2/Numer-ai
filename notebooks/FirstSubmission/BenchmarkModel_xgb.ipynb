{
 "cells": [
  {
   "cell_type": "code",
   "execution_count": 1,
   "metadata": {},
   "outputs": [
    {
     "name": "stderr",
     "output_type": "stream",
     "text": [
      "/home/tarai/.pyenv/versions/anaconda3-5.3.0/lib/python3.7/site-packages/dask/dataframe/utils.py:13: FutureWarning: pandas.util.testing is deprecated. Use the functions in the public API at pandas.testing instead.\n",
      "  import pandas.util.testing as tm\n"
     ]
    }
   ],
   "source": [
    "import csv\n",
    "\n",
    "import pandas as pd\n",
    "import numpy as np\n",
    "from xgboost import XGBRegressor\n",
    "\n",
    "ROUND = \"221\"\n",
    "TOURNAMENT_NAME = \"kazutsugi\"\n",
    "TARGET_NAME = f\"target_{TOURNAMENT_NAME}\"\n",
    "PREDICTION_NAME = f\"prediction_{TOURNAMENT_NAME}\""
   ]
  },
  {
   "cell_type": "code",
   "execution_count": 2,
   "metadata": {},
   "outputs": [],
   "source": [
    "# Submissions are scored by spearman correlation\n",
    "def score(df):\n",
    "    # method=\"first\" breaks ties based on order in array\n",
    "    pct_ranks = df[PREDICTION_NAME].rank(pct=True, method=\"first\")\n",
    "    targets = df[TARGET_NAME]\n",
    "    return np.corrcoef(targets, pct_ranks)[0, 1]\n",
    "\n",
    "\n",
    "# Payout is just the score cliped at +/-25%\n",
    "def payout(scores):\n",
    "    return scores.clip(lower=-0.25, upper=0.25)"
   ]
  },
  {
   "cell_type": "code",
   "execution_count": 4,
   "metadata": {},
   "outputs": [],
   "source": [
    "# Load Data\n",
    "training_data = pd.read_hdf(f\"../../dataset/numerai_dataset_{ROUND}/numerai_training_data.hdf\").set_index(\"id\")\n",
    "tournament_data = pd.read_hdf(f\"../../dataset/numerai_dataset_{ROUND}/numerai_tournament_data.hdf\").set_index(\"id\")"
   ]
  },
  {
   "cell_type": "code",
   "execution_count": 5,
   "metadata": {},
   "outputs": [],
   "source": [
    "# Sample submission file\n",
    "sample_predict = pd.read_csv(f\"../../dataset/numerai_dataset_{ROUND}/example_predictions_target_kazutsugi.csv\").set_index(\"id\")"
   ]
  },
  {
   "cell_type": "code",
   "execution_count": 6,
   "metadata": {},
   "outputs": [
    {
     "data": {
      "text/html": [
       "<div>\n",
       "<style scoped>\n",
       "    .dataframe tbody tr th:only-of-type {\n",
       "        vertical-align: middle;\n",
       "    }\n",
       "\n",
       "    .dataframe tbody tr th {\n",
       "        vertical-align: top;\n",
       "    }\n",
       "\n",
       "    .dataframe thead th {\n",
       "        text-align: right;\n",
       "    }\n",
       "</style>\n",
       "<table border=\"1\" class=\"dataframe\">\n",
       "  <thead>\n",
       "    <tr style=\"text-align: right;\">\n",
       "      <th></th>\n",
       "      <th>prediction_kazutsugi</th>\n",
       "    </tr>\n",
       "    <tr>\n",
       "      <th>id</th>\n",
       "      <th></th>\n",
       "    </tr>\n",
       "  </thead>\n",
       "  <tbody>\n",
       "    <tr>\n",
       "      <th>n0003aa52cab36c2</th>\n",
       "      <td>0.48416</td>\n",
       "    </tr>\n",
       "  </tbody>\n",
       "</table>\n",
       "</div>"
      ],
      "text/plain": [
       "                  prediction_kazutsugi\n",
       "id                                    \n",
       "n0003aa52cab36c2               0.48416"
      ]
     },
     "execution_count": 6,
     "metadata": {},
     "output_type": "execute_result"
    }
   ],
   "source": [
    "sample_predict.head(1)"
   ]
  },
  {
   "cell_type": "code",
   "execution_count": 7,
   "metadata": {},
   "outputs": [
    {
     "name": "stdout",
     "output_type": "stream",
     "text": [
      "Loaded 310 features\n",
      "Training model...\n",
      "Generating predictions...\n",
      "On validation the correlation has mean 0.02887754008290889 and std 0.030828106914912855\n",
      "On validation the average per-era payout is 0.02887754008290889\n"
     ]
    }
   ],
   "source": [
    "feature_names = [\n",
    "    f for f in training_data.columns if f.startswith(\"feature\")\n",
    "]\n",
    "print(f\"Loaded {len(feature_names)} features\")\n",
    "\n",
    "print(\"Training model...\")\n",
    "# This is the model that generates the included example predictions file\n",
    "# Taking too long? Set learning_rate=0.1 and n_estimators=200 to make this run faster\n",
    "# model = XGBRegressor(max_depth=5, learning_rate=0.01, n_estimators=2000, n_jobs=-1, colsample_bytree=0.1)\n",
    "# model.fit(training_data[feature_names], training_data[TARGET_NAME])\n",
    "\n",
    "# Generate predictions on both training and tournament data\n",
    "print(\"Generating predictions...\")\n",
    "# training_data[PREDICTION_NAME] = model.predict(training_data[feature_names])\n",
    "# tournament_data[PREDICTION_NAME] = model.predict(tournament_data[feature_names])\n",
    "# training_data[PREDICTION_NAME] = training_data.join(sample_predict)[PREDICTION_NAME]\n",
    "tournament_data[PREDICTION_NAME] = tournament_data.join(sample_predict)[PREDICTION_NAME]\n",
    "\n",
    "# Check the per-era correlations on the training set (in sample)\n",
    "# train_correlations = training_data.groupby(\"era\").apply(score)\n",
    "# print(f\"On training the correlation has mean {train_correlations.mean()} and std {train_correlations.std()}\")\n",
    "# print(f\"On training the average per-era payout is {payout(train_correlations).mean()}\")\n",
    "\n",
    "# Check the per-era correlations on the validation set (out of sample)\n",
    "validation_data = tournament_data[tournament_data.data_type == \"validation\"]\n",
    "validation_correlations = validation_data.groupby(\"era\").apply(score)\n",
    "print(f\"On validation the correlation has mean {validation_correlations.mean()} and std {validation_correlations.std()}\")\n",
    "print(f\"On validation the average per-era payout is {payout(validation_correlations).mean()}\")"
   ]
  },
  {
   "cell_type": "code",
   "execution_count": 12,
   "metadata": {},
   "outputs": [
    {
     "data": {
      "text/plain": [
       "<matplotlib.axes._subplots.AxesSubplot at 0x7efe20ea5cc0>"
      ]
     },
     "execution_count": 12,
     "metadata": {},
     "output_type": "execute_result"
    },
    {
     "data": {
      "image/png": "[encoded data removed]",
      "text/plain": [
       "<Figure size 720x288 with 1 Axes>"
      ]
     },
     "metadata": {
      "needs_background": "light"
     },
     "output_type": "display_data"
    }
   ],
   "source": [
    "validation_correlations.plot(figsize=(10,4), marker=\"x\")"
   ]
  },
  {
   "cell_type": "code",
   "execution_count": null,
   "metadata": {},
   "outputs": [],
   "source": []
  }
 ],
 "metadata": {
  "kernelspec": {
   "display_name": "anaconda3530",
   "language": "python",
   "name": "anaconda3530"
  },
  "language_info": {
   "codemirror_mode": {
    "name": "ipython",
    "version": 3
   },
   "file_extension": ".py",
   "mimetype": "text/x-python",
   "name": "python",
   "nbconvert_exporter": "python",
   "pygments_lexer": "ipython3",
   "version": "3.7.0"
  }
 },
 "nbformat": 4,
 "nbformat_minor": 2
}
